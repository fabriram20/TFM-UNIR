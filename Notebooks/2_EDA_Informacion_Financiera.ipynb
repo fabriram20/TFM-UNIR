{
 "cells": [
  {
   "cell_type": "markdown",
   "metadata": {},
   "source": [
    "# 2 - EDA DATASET INFORMACION FINANCIERA DE LA SUPERINTENDENCIA\n",
    "\n",
    "**AUTOR: Fabrizio Ramirez Cutimbo**\n",
    "\n",
    "**OBJETIVO:**\n",
    "\n",
    "+ Transformar y limpiar los dataset de \"Información Financiera\" que expone la Superintendencia de Compañías, Valores y Seguros del año 2022 y 2023.\n",
    "---"
   ]
  },
  {
   "cell_type": "code",
   "execution_count": 1,
   "metadata": {},
   "outputs": [],
   "source": [
    "import pandas as pd\n",
    "import numpy as np"
   ]
  },
  {
   "cell_type": "markdown",
   "metadata": {},
   "source": [
    "## PROCESAMIENTO Información Financiera 2023"
   ]
  },
  {
   "cell_type": "markdown",
   "metadata": {},
   "source": [
    "### Cargar Dataset"
   ]
  },
  {
   "cell_type": "code",
   "execution_count": 2,
   "metadata": {},
   "outputs": [
    {
     "name": "stderr",
     "output_type": "stream",
     "text": [
      "C:\\Users\\fabrizio\\AppData\\Local\\Temp\\ipykernel_11208\\876515244.py:3: DtypeWarning: Columns (16,17,18,19,20,21,23,24,25,27,28,29,30,31,32,33,34,35,36,37,38,39,40,41,43,44,45,46,47,48,49,50,51,52,53,54,55,57,58,59,60,61,64,65,66,67,69,70,71,72,73,74,75,76,78,80,81,82,83,84,85,86,89,90,91,92,93,94,95,96,97,98,99,100,101,102,103,105,106,107,108,109,110,111,119,120,121,122,123,124,125,126,127,128,129,130,131,132,133,134,144,147,151,152,155,164,165,166,172,176,180,182,183,184,185,186,187,188,189,190,191,192,193,194,195,196,197,198,199,200,201,202,204,206,207,208,209,212,213,214,215,216,217,218,219,220,221,222,224,225,226,227,228,229,230,231,232,234,235,236,237,240,241,242,245,246,253,258,261,264,265,266,267,274,284,285,287,290,291,292,293,294,296,297,298,299,300,301,302,303,304,305,306,308,310,313,316,317,318,319,322,326,327,330,331,332,333,334,335,336,337,338,339,340,341,342,343,344,345,346,347,348,349,356,357,358,359,360,362,365,366,367,368,369,370,373,374,375,376,377,378,382,387,388,390,391,392,394,396,397,398,399,400,401,402,403,404,405,406,407,408,409,410,411,412,413,414,415,416,417,418,419,421,423,424,425,426,427,428,429,430,431,434,435,443,445,447,448,449,450,454,455,456,459,460,461,462,466,467,473,476,483,487,488,489,490,491,492,493,494,495,496,497,498,499,500,501,502,503,505,506,507,508,509,510,526,536,537,538,539,540,542,543,544,545,546,547,548,550,551,552,553,554,555,561,562,566,567,569,570,571,572,573,574,575,576,577,578,579,581,582,583,587,588,590,591,592,593,594,595,598,608,609,611,616,617,618,619,620,621,622,623,624,625,628) have mixed types. Specify dtype option on import or set low_memory=False.\n",
      "  pd_dataset = pd.read_csv(file_path, delimiter='\\t', dtype={'RUC': 'object', 'EXPEDIENTE': 'object'}, encoding='latin1')\n"
     ]
    }
   ],
   "source": [
    "file_path = \"Datasets\\\\estadosFinancieros_2023\\\\balances_2023_1.txt\"\n",
    "# Lee el archivo usando el delimitador de tabulaciones\n",
    "pd_dataset = pd.read_csv(file_path, delimiter='\\t', dtype={'RUC': 'object', 'EXPEDIENTE': 'object'}, encoding='latin1')"
   ]
  },
  {
   "cell_type": "markdown",
   "metadata": {},
   "source": [
    "### Forma, Columnas y Datos Generales"
   ]
  },
  {
   "cell_type": "code",
   "execution_count": 3,
   "metadata": {},
   "outputs": [
    {
     "data": {
      "text/html": [
       "<div>\n",
       "<style scoped>\n",
       "    .dataframe tbody tr th:only-of-type {\n",
       "        vertical-align: middle;\n",
       "    }\n",
       "\n",
       "    .dataframe tbody tr th {\n",
       "        vertical-align: top;\n",
       "    }\n",
       "\n",
       "    .dataframe thead th {\n",
       "        text-align: right;\n",
       "    }\n",
       "</style>\n",
       "<table border=\"1\" class=\"dataframe\">\n",
       "  <thead>\n",
       "    <tr style=\"text-align: right;\">\n",
       "      <th></th>\n",
       "      <th>AÑO</th>\n",
       "      <th>EXPEDIENTE</th>\n",
       "      <th>RUC</th>\n",
       "      <th>NOMBRE</th>\n",
       "      <th>RAMA_ACTIVIDAD</th>\n",
       "      <th>DESCRIPCION_RAMA</th>\n",
       "      <th>CIIU</th>\n",
       "      <th>CUENTA_1</th>\n",
       "      <th>CUENTA_101</th>\n",
       "      <th>CUENTA_10101</th>\n",
       "      <th>...</th>\n",
       "      <th>CUENTA_80004</th>\n",
       "      <th>CUENTA_80005</th>\n",
       "      <th>CUENTA_80006</th>\n",
       "      <th>CUENTA_80007</th>\n",
       "      <th>CUENTA_80008</th>\n",
       "      <th>CUENTA_80009</th>\n",
       "      <th>CUENTA_801</th>\n",
       "      <th>CUENTA_80101</th>\n",
       "      <th>CUENTA_80102</th>\n",
       "      <th>Unnamed: 629</th>\n",
       "    </tr>\n",
       "  </thead>\n",
       "  <tbody>\n",
       "    <tr>\n",
       "      <th>112835</th>\n",
       "      <td>2023</td>\n",
       "      <td>737231</td>\n",
       "      <td>0993344516001</td>\n",
       "      <td>JURELEX S.A.S.</td>\n",
       "      <td>M</td>\n",
       "      <td>ACTIVIDADES PROFESIONALES, CIENTÍFICAS Y TÉCNI...</td>\n",
       "      <td>M6910.01</td>\n",
       "      <td>18633,73</td>\n",
       "      <td>18633,73</td>\n",
       "      <td>5908,24</td>\n",
       "      <td>...</td>\n",
       "      <td>0</td>\n",
       "      <td>0</td>\n",
       "      <td>0</td>\n",
       "      <td>0</td>\n",
       "      <td>0</td>\n",
       "      <td>0</td>\n",
       "      <td>0</td>\n",
       "      <td>0</td>\n",
       "      <td>0</td>\n",
       "      <td>NaN</td>\n",
       "    </tr>\n",
       "  </tbody>\n",
       "</table>\n",
       "<p>1 rows × 630 columns</p>\n",
       "</div>"
      ],
      "text/plain": [
       "         AÑO EXPEDIENTE            RUC          NOMBRE RAMA_ACTIVIDAD  \\\n",
       "112835  2023     737231  0993344516001  JURELEX S.A.S.              M   \n",
       "\n",
       "                                         DESCRIPCION_RAMA      CIIU  CUENTA_1  \\\n",
       "112835  ACTIVIDADES PROFESIONALES, CIENTÍFICAS Y TÉCNI...  M6910.01  18633,73   \n",
       "\n",
       "       CUENTA_101 CUENTA_10101  ... CUENTA_80004 CUENTA_80005 CUENTA_80006  \\\n",
       "112835   18633,73      5908,24  ...            0            0            0   \n",
       "\n",
       "       CUENTA_80007 CUENTA_80008 CUENTA_80009 CUENTA_801 CUENTA_80101  \\\n",
       "112835            0            0            0          0            0   \n",
       "\n",
       "       CUENTA_80102 Unnamed: 629  \n",
       "112835            0          NaN  \n",
       "\n",
       "[1 rows x 630 columns]"
      ]
     },
     "execution_count": 3,
     "metadata": {},
     "output_type": "execute_result"
    }
   ],
   "source": [
    "pd_dataset.sample(1)"
   ]
  },
  {
   "cell_type": "code",
   "execution_count": 4,
   "metadata": {},
   "outputs": [
    {
     "name": "stdout",
     "output_type": "stream",
     "text": [
      "Dimensiones del conjunto de datos: \n",
      " Filas: 125515  \n",
      " Columnas: 630\n"
     ]
    }
   ],
   "source": [
    "print(f\"Dimensiones del conjunto de datos: \\n Filas: {pd_dataset.shape[0]}  \\n Columnas: {pd_dataset.shape[1]}\")"
   ]
  },
  {
   "cell_type": "code",
   "execution_count": 5,
   "metadata": {},
   "outputs": [
    {
     "data": {
      "text/plain": [
       "Index(['AÑO', 'EXPEDIENTE', 'RUC', 'NOMBRE', 'RAMA_ACTIVIDAD',\n",
       "       'DESCRIPCION_RAMA', 'CIIU', 'CUENTA_1', 'CUENTA_101', 'CUENTA_10101',\n",
       "       ...\n",
       "       'CUENTA_80004', 'CUENTA_80005', 'CUENTA_80006', 'CUENTA_80007',\n",
       "       'CUENTA_80008', 'CUENTA_80009', 'CUENTA_801', 'CUENTA_80101',\n",
       "       'CUENTA_80102', 'Unnamed: 629'],\n",
       "      dtype='object', length=630)"
      ]
     },
     "execution_count": 5,
     "metadata": {},
     "output_type": "execute_result"
    }
   ],
   "source": [
    "pd_dataset.columns"
   ]
  },
  {
   "cell_type": "code",
   "execution_count": 6,
   "metadata": {},
   "outputs": [
    {
     "data": {
      "text/plain": [
       "AÑO                    0\n",
       "EXPEDIENTE             0\n",
       "RUC                    1\n",
       "NOMBRE                 0\n",
       "RAMA_ACTIVIDAD        13\n",
       "                   ...  \n",
       "CUENTA_80009           0\n",
       "CUENTA_801             0\n",
       "CUENTA_80101           0\n",
       "CUENTA_80102           0\n",
       "Unnamed: 629      125515\n",
       "Length: 630, dtype: int64"
      ]
     },
     "execution_count": 6,
     "metadata": {},
     "output_type": "execute_result"
    }
   ],
   "source": [
    "pd_dataset.isna().sum()"
   ]
  },
  {
   "cell_type": "code",
   "execution_count": 7,
   "metadata": {},
   "outputs": [
    {
     "data": {
      "text/plain": [
       "AÑO                 int64\n",
       "EXPEDIENTE         object\n",
       "RUC                object\n",
       "NOMBRE             object\n",
       "RAMA_ACTIVIDAD     object\n",
       "                   ...   \n",
       "CUENTA_80009       object\n",
       "CUENTA_801         object\n",
       "CUENTA_80101       object\n",
       "CUENTA_80102       object\n",
       "Unnamed: 629      float64\n",
       "Length: 630, dtype: object"
      ]
     },
     "execution_count": 7,
     "metadata": {},
     "output_type": "execute_result"
    }
   ],
   "source": [
    "pd_dataset.dtypes"
   ]
  },
  {
   "cell_type": "markdown",
   "metadata": {},
   "source": [
    "### Selección columnas de interés"
   ]
  },
  {
   "cell_type": "code",
   "execution_count": 8,
   "metadata": {},
   "outputs": [],
   "source": [
    "pd_dataset_filtered = pd_dataset[['EXPEDIENTE', 'RUC',\n",
    "                                  'CUENTA_1', 'CUENTA_101', 'CUENTA_10103', 'CUENTA_102',\n",
    "                                  'CUENTA_2', 'CUENTA_201', 'CUENTA_202', \n",
    "                                  'CUENTA_3', \n",
    "                                  'CUENTA_401', 'CUENTA_402', 'CUENTA_403', \n",
    "                                  'CUENTA_501', 'CUENTA_502', \n",
    "                                  'CUENTA_600', 'CUENTA_602', 'CUENTA_603', 'CUENTA_607' ]]"
   ]
  },
  {
   "cell_type": "code",
   "execution_count": 9,
   "metadata": {},
   "outputs": [
    {
     "data": {
      "text/html": [
       "<div>\n",
       "<style scoped>\n",
       "    .dataframe tbody tr th:only-of-type {\n",
       "        vertical-align: middle;\n",
       "    }\n",
       "\n",
       "    .dataframe tbody tr th {\n",
       "        vertical-align: top;\n",
       "    }\n",
       "\n",
       "    .dataframe thead th {\n",
       "        text-align: right;\n",
       "    }\n",
       "</style>\n",
       "<table border=\"1\" class=\"dataframe\">\n",
       "  <thead>\n",
       "    <tr style=\"text-align: right;\">\n",
       "      <th></th>\n",
       "      <th>EXPEDIENTE</th>\n",
       "      <th>RUC</th>\n",
       "      <th>CUENTA_1</th>\n",
       "      <th>CUENTA_101</th>\n",
       "      <th>CUENTA_10103</th>\n",
       "      <th>CUENTA_102</th>\n",
       "      <th>CUENTA_2</th>\n",
       "      <th>CUENTA_201</th>\n",
       "      <th>CUENTA_202</th>\n",
       "      <th>CUENTA_3</th>\n",
       "      <th>CUENTA_401</th>\n",
       "      <th>CUENTA_402</th>\n",
       "      <th>CUENTA_403</th>\n",
       "      <th>CUENTA_501</th>\n",
       "      <th>CUENTA_502</th>\n",
       "      <th>CUENTA_600</th>\n",
       "      <th>CUENTA_602</th>\n",
       "      <th>CUENTA_603</th>\n",
       "      <th>CUENTA_607</th>\n",
       "    </tr>\n",
       "  </thead>\n",
       "  <tbody>\n",
       "    <tr>\n",
       "      <th>49543</th>\n",
       "      <td>303406</td>\n",
       "      <td>1792653673001</td>\n",
       "      <td>95195,13</td>\n",
       "      <td>95154,64</td>\n",
       "      <td>12908,60</td>\n",
       "      <td>40,49</td>\n",
       "      <td>71400,19</td>\n",
       "      <td>71400,19</td>\n",
       "      <td>0</td>\n",
       "      <td>23794,94</td>\n",
       "      <td>44921,65</td>\n",
       "      <td>21868,02</td>\n",
       "      <td>73,20</td>\n",
       "      <td>23053,63</td>\n",
       "      <td>44656,73</td>\n",
       "      <td>-22715,51</td>\n",
       "      <td>-22715,51</td>\n",
       "      <td>0</td>\n",
       "      <td>0</td>\n",
       "    </tr>\n",
       "  </tbody>\n",
       "</table>\n",
       "</div>"
      ],
      "text/plain": [
       "      EXPEDIENTE            RUC  CUENTA_1 CUENTA_101 CUENTA_10103 CUENTA_102  \\\n",
       "49543     303406  1792653673001  95195,13   95154,64     12908,60      40,49   \n",
       "\n",
       "       CUENTA_2 CUENTA_201 CUENTA_202  CUENTA_3 CUENTA_401 CUENTA_402  \\\n",
       "49543  71400,19   71400,19          0  23794,94   44921,65   21868,02   \n",
       "\n",
       "      CUENTA_403 CUENTA_501 CUENTA_502 CUENTA_600 CUENTA_602 CUENTA_603  \\\n",
       "49543      73,20   23053,63   44656,73  -22715,51  -22715,51          0   \n",
       "\n",
       "      CUENTA_607  \n",
       "49543          0  "
      ]
     },
     "execution_count": 9,
     "metadata": {},
     "output_type": "execute_result"
    }
   ],
   "source": [
    "pd_dataset_filtered.sample(1)"
   ]
  },
  {
   "cell_type": "code",
   "execution_count": 10,
   "metadata": {},
   "outputs": [
    {
     "data": {
      "text/plain": [
       "EXPEDIENTE      0.000000\n",
       "RUC             0.000797\n",
       "CUENTA_1        0.000000\n",
       "CUENTA_101      0.000000\n",
       "CUENTA_10103    0.000000\n",
       "CUENTA_102      0.000000\n",
       "CUENTA_2        0.000000\n",
       "CUENTA_201      0.000000\n",
       "CUENTA_202      0.000000\n",
       "CUENTA_3        0.000000\n",
       "CUENTA_401      0.000000\n",
       "CUENTA_402      0.000000\n",
       "CUENTA_403      0.000000\n",
       "CUENTA_501      0.000000\n",
       "CUENTA_502      0.000000\n",
       "CUENTA_600      0.000000\n",
       "CUENTA_602      0.000000\n",
       "CUENTA_603      0.000000\n",
       "CUENTA_607      0.000000\n",
       "dtype: float64"
      ]
     },
     "execution_count": 10,
     "metadata": {},
     "output_type": "execute_result"
    }
   ],
   "source": [
    "# Calcular el porcentaje de valores nulos por columna\n",
    "pd_dataset_filtered.isnull().mean() * 100"
   ]
  },
  {
   "cell_type": "markdown",
   "metadata": {},
   "source": [
    "### Transformación a datos numéricos"
   ]
  },
  {
   "cell_type": "code",
   "execution_count": 11,
   "metadata": {},
   "outputs": [
    {
     "name": "stderr",
     "output_type": "stream",
     "text": [
      "C:\\Users\\fabrizio\\AppData\\Local\\Temp\\ipykernel_11208\\2160263808.py:8: SettingWithCopyWarning: \n",
      "A value is trying to be set on a copy of a slice from a DataFrame.\n",
      "Try using .loc[row_indexer,col_indexer] = value instead\n",
      "\n",
      "See the caveats in the documentation: https://pandas.pydata.org/pandas-docs/stable/user_guide/indexing.html#returning-a-view-versus-a-copy\n",
      "  pd_dataset_filtered[num_columns] = pd_dataset_filtered[num_columns].apply(\n"
     ]
    }
   ],
   "source": [
    "num_columns = ['CUENTA_1', 'CUENTA_101', 'CUENTA_10103', 'CUENTA_102', \n",
    "                'CUENTA_2', 'CUENTA_201', 'CUENTA_202', \n",
    "                'CUENTA_3', \n",
    "                'CUENTA_401', 'CUENTA_402', 'CUENTA_403', \n",
    "                'CUENTA_501','CUENTA_502', \n",
    "                'CUENTA_600', 'CUENTA_602', 'CUENTA_603', 'CUENTA_607' ]\n",
    "\n",
    "pd_dataset_filtered[num_columns] = pd_dataset_filtered[num_columns].apply(\n",
    "    lambda col: pd.to_numeric(col.str.replace('.', '', regex=False).str.replace(',', '.', regex=False))\n",
    ")"
   ]
  },
  {
   "cell_type": "code",
   "execution_count": 12,
   "metadata": {},
   "outputs": [
    {
     "data": {
      "text/html": [
       "<div>\n",
       "<style scoped>\n",
       "    .dataframe tbody tr th:only-of-type {\n",
       "        vertical-align: middle;\n",
       "    }\n",
       "\n",
       "    .dataframe tbody tr th {\n",
       "        vertical-align: top;\n",
       "    }\n",
       "\n",
       "    .dataframe thead th {\n",
       "        text-align: right;\n",
       "    }\n",
       "</style>\n",
       "<table border=\"1\" class=\"dataframe\">\n",
       "  <thead>\n",
       "    <tr style=\"text-align: right;\">\n",
       "      <th></th>\n",
       "      <th>EXPEDIENTE</th>\n",
       "      <th>RUC</th>\n",
       "      <th>CUENTA_1</th>\n",
       "      <th>CUENTA_101</th>\n",
       "      <th>CUENTA_10103</th>\n",
       "      <th>CUENTA_102</th>\n",
       "      <th>CUENTA_2</th>\n",
       "      <th>CUENTA_201</th>\n",
       "      <th>CUENTA_202</th>\n",
       "      <th>CUENTA_3</th>\n",
       "      <th>CUENTA_401</th>\n",
       "      <th>CUENTA_402</th>\n",
       "      <th>CUENTA_403</th>\n",
       "      <th>CUENTA_501</th>\n",
       "      <th>CUENTA_502</th>\n",
       "      <th>CUENTA_600</th>\n",
       "      <th>CUENTA_602</th>\n",
       "      <th>CUENTA_603</th>\n",
       "      <th>CUENTA_607</th>\n",
       "    </tr>\n",
       "  </thead>\n",
       "  <tbody>\n",
       "    <tr>\n",
       "      <th>123055</th>\n",
       "      <td>750676</td>\n",
       "      <td>1793207409001</td>\n",
       "      <td>100.0</td>\n",
       "      <td>100.0</td>\n",
       "      <td>0.0</td>\n",
       "      <td>0.0</td>\n",
       "      <td>0.0</td>\n",
       "      <td>0.0</td>\n",
       "      <td>0.0</td>\n",
       "      <td>100.0</td>\n",
       "      <td>0.0</td>\n",
       "      <td>0.0</td>\n",
       "      <td>0.0</td>\n",
       "      <td>0.0</td>\n",
       "      <td>0.0</td>\n",
       "      <td>0.0</td>\n",
       "      <td>0.0</td>\n",
       "      <td>0.0</td>\n",
       "      <td>0.0</td>\n",
       "    </tr>\n",
       "  </tbody>\n",
       "</table>\n",
       "</div>"
      ],
      "text/plain": [
       "       EXPEDIENTE            RUC  CUENTA_1  CUENTA_101  CUENTA_10103  \\\n",
       "123055     750676  1793207409001     100.0       100.0           0.0   \n",
       "\n",
       "        CUENTA_102  CUENTA_2  CUENTA_201  CUENTA_202  CUENTA_3  CUENTA_401  \\\n",
       "123055         0.0       0.0         0.0         0.0     100.0         0.0   \n",
       "\n",
       "        CUENTA_402  CUENTA_403  CUENTA_501  CUENTA_502  CUENTA_600  \\\n",
       "123055         0.0         0.0         0.0         0.0         0.0   \n",
       "\n",
       "        CUENTA_602  CUENTA_603  CUENTA_607  \n",
       "123055         0.0         0.0         0.0  "
      ]
     },
     "execution_count": 12,
     "metadata": {},
     "output_type": "execute_result"
    }
   ],
   "source": [
    "pd_dataset_filtered.sample(1)"
   ]
  },
  {
   "cell_type": "markdown",
   "metadata": {},
   "source": [
    "### Renombrar Columnas"
   ]
  },
  {
   "cell_type": "code",
   "execution_count": 13,
   "metadata": {},
   "outputs": [],
   "source": [
    "diccionario_2023 = {\n",
    "    'CUENTA_1': 'ACTIVO_2023',\n",
    "    'CUENTA_101': 'ACTIVO_CORRIENTE_2023',\n",
    "    'CUENTA_10103': 'INVENTARIOS_2023',\n",
    "    'CUENTA_102': 'ACTIVOS_NO_CORRIENTES_2023',\n",
    "    'CUENTA_2': 'PASIVO_2023',\n",
    "    'CUENTA_201': 'PASIVO_CORRIENTE_2023',\n",
    "    'CUENTA_202': 'PASIVO_NO_CORRIENTE_2023',\n",
    "    'CUENTA_3': 'PATRIMONIO_NETO_2023',\n",
    "    'CUENTA_401': 'INGRESOS_ACTIVIDADES_ORDINARIAS_2023',\n",
    "    'CUENTA_402': 'GANANCIA_BRUTA_2023',\n",
    "    'CUENTA_403': 'OTROS_INGRESOS_2023',\n",
    "    'CUENTA_501': 'COSTO_VENTAS_PRODUCCION_2023',\n",
    "    'CUENTA_502': 'GASTOS_2023',\n",
    "    'CUENTA_600': 'UTILIDAD_OPERATIVA_2023',\n",
    "    'CUENTA_603': 'IMPUESTO_RENTA_2023',\n",
    "    'CUENTA_602': 'GANACIA_PERDIDA_ANTES_IR_2023',\n",
    "    'CUENTA_607': 'UTILIDAD_NETA_2023'\n",
    "    }"
   ]
  },
  {
   "cell_type": "code",
   "execution_count": 14,
   "metadata": {},
   "outputs": [],
   "source": [
    "pd_dataset_filtered = pd_dataset_filtered.rename(columns=diccionario_2023)"
   ]
  },
  {
   "cell_type": "code",
   "execution_count": 15,
   "metadata": {},
   "outputs": [
    {
     "data": {
      "text/html": [
       "<div>\n",
       "<style scoped>\n",
       "    .dataframe tbody tr th:only-of-type {\n",
       "        vertical-align: middle;\n",
       "    }\n",
       "\n",
       "    .dataframe tbody tr th {\n",
       "        vertical-align: top;\n",
       "    }\n",
       "\n",
       "    .dataframe thead th {\n",
       "        text-align: right;\n",
       "    }\n",
       "</style>\n",
       "<table border=\"1\" class=\"dataframe\">\n",
       "  <thead>\n",
       "    <tr style=\"text-align: right;\">\n",
       "      <th></th>\n",
       "      <th>EXPEDIENTE</th>\n",
       "      <th>RUC</th>\n",
       "      <th>ACTIVO_2023</th>\n",
       "      <th>ACTIVO_CORRIENTE_2023</th>\n",
       "      <th>INVENTARIOS_2023</th>\n",
       "      <th>ACTIVOS_NO_CORRIENTES_2023</th>\n",
       "      <th>PASIVO_2023</th>\n",
       "      <th>PASIVO_CORRIENTE_2023</th>\n",
       "      <th>PASIVO_NO_CORRIENTE_2023</th>\n",
       "      <th>PATRIMONIO_NETO_2023</th>\n",
       "      <th>INGRESOS_ACTIVIDADES_ORDINARIAS_2023</th>\n",
       "      <th>GANANCIA_BRUTA_2023</th>\n",
       "      <th>OTROS_INGRESOS_2023</th>\n",
       "      <th>COSTO_VENTAS_PRODUCCION_2023</th>\n",
       "      <th>GASTOS_2023</th>\n",
       "      <th>UTILIDAD_OPERATIVA_2023</th>\n",
       "      <th>GANACIA_PERDIDA_ANTES_IR_2023</th>\n",
       "      <th>IMPUESTO_RENTA_2023</th>\n",
       "      <th>UTILIDAD_NETA_2023</th>\n",
       "    </tr>\n",
       "  </thead>\n",
       "  <tbody>\n",
       "    <tr>\n",
       "      <th>23110</th>\n",
       "      <td>123809</td>\n",
       "      <td>0992467045001</td>\n",
       "      <td>1637728.56</td>\n",
       "      <td>0.0</td>\n",
       "      <td>0.0</td>\n",
       "      <td>1637728.56</td>\n",
       "      <td>1275424.46</td>\n",
       "      <td>0.0</td>\n",
       "      <td>1275424.46</td>\n",
       "      <td>362304.1</td>\n",
       "      <td>0.0</td>\n",
       "      <td>0.0</td>\n",
       "      <td>714780.09</td>\n",
       "      <td>0.0</td>\n",
       "      <td>248514.43</td>\n",
       "      <td>466265.66</td>\n",
       "      <td>0.0</td>\n",
       "      <td>0.0</td>\n",
       "      <td>0.0</td>\n",
       "    </tr>\n",
       "  </tbody>\n",
       "</table>\n",
       "</div>"
      ],
      "text/plain": [
       "      EXPEDIENTE            RUC  ACTIVO_2023  ACTIVO_CORRIENTE_2023  \\\n",
       "23110     123809  0992467045001   1637728.56                    0.0   \n",
       "\n",
       "       INVENTARIOS_2023  ACTIVOS_NO_CORRIENTES_2023  PASIVO_2023  \\\n",
       "23110               0.0                  1637728.56   1275424.46   \n",
       "\n",
       "       PASIVO_CORRIENTE_2023  PASIVO_NO_CORRIENTE_2023  PATRIMONIO_NETO_2023  \\\n",
       "23110                    0.0                1275424.46              362304.1   \n",
       "\n",
       "       INGRESOS_ACTIVIDADES_ORDINARIAS_2023  GANANCIA_BRUTA_2023  \\\n",
       "23110                                   0.0                  0.0   \n",
       "\n",
       "       OTROS_INGRESOS_2023  COSTO_VENTAS_PRODUCCION_2023  GASTOS_2023  \\\n",
       "23110            714780.09                           0.0    248514.43   \n",
       "\n",
       "       UTILIDAD_OPERATIVA_2023  GANACIA_PERDIDA_ANTES_IR_2023  \\\n",
       "23110                466265.66                            0.0   \n",
       "\n",
       "       IMPUESTO_RENTA_2023  UTILIDAD_NETA_2023  \n",
       "23110                  0.0                 0.0  "
      ]
     },
     "execution_count": 15,
     "metadata": {},
     "output_type": "execute_result"
    }
   ],
   "source": [
    "pd_dataset_filtered.sample(1)"
   ]
  },
  {
   "cell_type": "code",
   "execution_count": 16,
   "metadata": {},
   "outputs": [
    {
     "data": {
      "text/plain": [
       "EXPEDIENTE                               object\n",
       "RUC                                      object\n",
       "ACTIVO_2023                             float64\n",
       "ACTIVO_CORRIENTE_2023                   float64\n",
       "INVENTARIOS_2023                        float64\n",
       "ACTIVOS_NO_CORRIENTES_2023              float64\n",
       "PASIVO_2023                             float64\n",
       "PASIVO_CORRIENTE_2023                   float64\n",
       "PASIVO_NO_CORRIENTE_2023                float64\n",
       "PATRIMONIO_NETO_2023                    float64\n",
       "INGRESOS_ACTIVIDADES_ORDINARIAS_2023    float64\n",
       "GANANCIA_BRUTA_2023                     float64\n",
       "OTROS_INGRESOS_2023                     float64\n",
       "COSTO_VENTAS_PRODUCCION_2023            float64\n",
       "GASTOS_2023                             float64\n",
       "UTILIDAD_OPERATIVA_2023                 float64\n",
       "GANACIA_PERDIDA_ANTES_IR_2023           float64\n",
       "IMPUESTO_RENTA_2023                     float64\n",
       "UTILIDAD_NETA_2023                      float64\n",
       "dtype: object"
      ]
     },
     "execution_count": 16,
     "metadata": {},
     "output_type": "execute_result"
    }
   ],
   "source": [
    "pd_dataset_filtered.dtypes"
   ]
  },
  {
   "cell_type": "markdown",
   "metadata": {},
   "source": [
    "### EDA"
   ]
  },
  {
   "cell_type": "code",
   "execution_count": 17,
   "metadata": {},
   "outputs": [
    {
     "name": "stderr",
     "output_type": "stream",
     "text": [
      "C:\\Users\\fabrizio\\AppData\\Local\\Temp\\ipykernel_11208\\3611598044.py:7: FutureWarning: DataFrame.applymap has been deprecated. Use DataFrame.map instead.\n",
      "  formatted_description = description.applymap(lambda x: f\"{x:.2f}\")\n"
     ]
    },
    {
     "data": {
      "text/html": [
       "<div>\n",
       "<style scoped>\n",
       "    .dataframe tbody tr th:only-of-type {\n",
       "        vertical-align: middle;\n",
       "    }\n",
       "\n",
       "    .dataframe tbody tr th {\n",
       "        vertical-align: top;\n",
       "    }\n",
       "\n",
       "    .dataframe thead th {\n",
       "        text-align: right;\n",
       "    }\n",
       "</style>\n",
       "<table border=\"1\" class=\"dataframe\">\n",
       "  <thead>\n",
       "    <tr style=\"text-align: right;\">\n",
       "      <th></th>\n",
       "      <th>ACTIVO_2023</th>\n",
       "      <th>PASIVO_2023</th>\n",
       "      <th>PATRIMONIO_NETO_2023</th>\n",
       "      <th>INGRESOS_ACTIVIDADES_ORDINARIAS_2023</th>\n",
       "      <th>COSTO_VENTAS_PRODUCCION_2023</th>\n",
       "      <th>GASTOS_2023</th>\n",
       "      <th>UTILIDAD_OPERATIVA_2023</th>\n",
       "      <th>GANACIA_PERDIDA_ANTES_IR_2023</th>\n",
       "      <th>IMPUESTO_RENTA_2023</th>\n",
       "      <th>UTILIDAD_NETA_2023</th>\n",
       "    </tr>\n",
       "  </thead>\n",
       "  <tbody>\n",
       "    <tr>\n",
       "      <th>count</th>\n",
       "      <td>125515.00</td>\n",
       "      <td>125515.00</td>\n",
       "      <td>125515.00</td>\n",
       "      <td>125515.00</td>\n",
       "      <td>125515.00</td>\n",
       "      <td>125515.00</td>\n",
       "      <td>125515.00</td>\n",
       "      <td>125515.00</td>\n",
       "      <td>125515.00</td>\n",
       "      <td>125515.00</td>\n",
       "    </tr>\n",
       "    <tr>\n",
       "      <th>mean</th>\n",
       "      <td>1342541.11</td>\n",
       "      <td>751513.33</td>\n",
       "      <td>590983.71</td>\n",
       "      <td>1226754.93</td>\n",
       "      <td>804415.56</td>\n",
       "      <td>349886.32</td>\n",
       "      <td>90412.58</td>\n",
       "      <td>2520066496.65</td>\n",
       "      <td>209152.38</td>\n",
       "      <td>615536.42</td>\n",
       "    </tr>\n",
       "    <tr>\n",
       "      <th>std</th>\n",
       "      <td>18302522.50</td>\n",
       "      <td>8926376.46</td>\n",
       "      <td>11319241.62</td>\n",
       "      <td>17395385.24</td>\n",
       "      <td>12997022.59</td>\n",
       "      <td>4520018.87</td>\n",
       "      <td>2771655.75</td>\n",
       "      <td>660762694932.32</td>\n",
       "      <td>67495745.09</td>\n",
       "      <td>202489054.55</td>\n",
       "    </tr>\n",
       "    <tr>\n",
       "      <th>min</th>\n",
       "      <td>0.00</td>\n",
       "      <td>0.00</td>\n",
       "      <td>-237703354.58</td>\n",
       "      <td>0.00</td>\n",
       "      <td>0.00</td>\n",
       "      <td>0.00</td>\n",
       "      <td>-66586053.00</td>\n",
       "      <td>-66586053.00</td>\n",
       "      <td>0.00</td>\n",
       "      <td>-66586053.00</td>\n",
       "    </tr>\n",
       "    <tr>\n",
       "      <th>25%</th>\n",
       "      <td>1001.58</td>\n",
       "      <td>0.00</td>\n",
       "      <td>800.00</td>\n",
       "      <td>0.00</td>\n",
       "      <td>0.00</td>\n",
       "      <td>0.00</td>\n",
       "      <td>0.00</td>\n",
       "      <td>0.00</td>\n",
       "      <td>0.00</td>\n",
       "      <td>0.00</td>\n",
       "    </tr>\n",
       "    <tr>\n",
       "      <th>50%</th>\n",
       "      <td>25874.52</td>\n",
       "      <td>8500.81</td>\n",
       "      <td>4994.01</td>\n",
       "      <td>12658.89</td>\n",
       "      <td>0.00</td>\n",
       "      <td>8394.60</td>\n",
       "      <td>0.00</td>\n",
       "      <td>0.00</td>\n",
       "      <td>0.00</td>\n",
       "      <td>0.00</td>\n",
       "    </tr>\n",
       "    <tr>\n",
       "      <th>75%</th>\n",
       "      <td>222612.84</td>\n",
       "      <td>120384.93</td>\n",
       "      <td>58366.76</td>\n",
       "      <td>194956.93</td>\n",
       "      <td>19229.04</td>\n",
       "      <td>97132.07</td>\n",
       "      <td>6766.81</td>\n",
       "      <td>2041.38</td>\n",
       "      <td>375.86</td>\n",
       "      <td>8.46</td>\n",
       "    </tr>\n",
       "    <tr>\n",
       "      <th>max</th>\n",
       "      <td>2564376140.55</td>\n",
       "      <td>778408645.99</td>\n",
       "      <td>1785967494.56</td>\n",
       "      <td>2483015099.25</td>\n",
       "      <td>1817217513.45</td>\n",
       "      <td>700779280.41</td>\n",
       "      <td>527655725.85</td>\n",
       "      <td>207032575000039.00</td>\n",
       "      <td>23911794125.00</td>\n",
       "      <td>71735382375.00</td>\n",
       "    </tr>\n",
       "  </tbody>\n",
       "</table>\n",
       "</div>"
      ],
      "text/plain": [
       "         ACTIVO_2023   PASIVO_2023 PATRIMONIO_NETO_2023  \\\n",
       "count      125515.00     125515.00            125515.00   \n",
       "mean      1342541.11     751513.33            590983.71   \n",
       "std      18302522.50    8926376.46          11319241.62   \n",
       "min             0.00          0.00        -237703354.58   \n",
       "25%          1001.58          0.00               800.00   \n",
       "50%         25874.52       8500.81              4994.01   \n",
       "75%        222612.84     120384.93             58366.76   \n",
       "max    2564376140.55  778408645.99        1785967494.56   \n",
       "\n",
       "      INGRESOS_ACTIVIDADES_ORDINARIAS_2023 COSTO_VENTAS_PRODUCCION_2023  \\\n",
       "count                            125515.00                    125515.00   \n",
       "mean                            1226754.93                    804415.56   \n",
       "std                            17395385.24                  12997022.59   \n",
       "min                                   0.00                         0.00   \n",
       "25%                                   0.00                         0.00   \n",
       "50%                               12658.89                         0.00   \n",
       "75%                              194956.93                     19229.04   \n",
       "max                          2483015099.25                1817217513.45   \n",
       "\n",
       "        GASTOS_2023 UTILIDAD_OPERATIVA_2023 GANACIA_PERDIDA_ANTES_IR_2023  \\\n",
       "count     125515.00               125515.00                     125515.00   \n",
       "mean      349886.32                90412.58                 2520066496.65   \n",
       "std      4520018.87              2771655.75               660762694932.32   \n",
       "min            0.00            -66586053.00                  -66586053.00   \n",
       "25%            0.00                    0.00                          0.00   \n",
       "50%         8394.60                    0.00                          0.00   \n",
       "75%        97132.07                 6766.81                       2041.38   \n",
       "max    700779280.41            527655725.85            207032575000039.00   \n",
       "\n",
       "      IMPUESTO_RENTA_2023 UTILIDAD_NETA_2023  \n",
       "count           125515.00          125515.00  \n",
       "mean            209152.38          615536.42  \n",
       "std           67495745.09       202489054.55  \n",
       "min                  0.00       -66586053.00  \n",
       "25%                  0.00               0.00  \n",
       "50%                  0.00               0.00  \n",
       "75%                375.86               8.46  \n",
       "max        23911794125.00     71735382375.00  "
      ]
     },
     "execution_count": 17,
     "metadata": {},
     "output_type": "execute_result"
    }
   ],
   "source": [
    "description = pd_dataset_filtered[['ACTIVO_2023', 'PASIVO_2023', 'PATRIMONIO_NETO_2023',\n",
    "                                   'INGRESOS_ACTIVIDADES_ORDINARIAS_2023', \n",
    "                                   'COSTO_VENTAS_PRODUCCION_2023', 'GASTOS_2023',\n",
    "                                   'UTILIDAD_OPERATIVA_2023', 'GANACIA_PERDIDA_ANTES_IR_2023', 'IMPUESTO_RENTA_2023', 'UTILIDAD_NETA_2023']].describe()\n",
    "\n",
    "# Aplicar formato a los valores en el DataFrame de descripción\n",
    "formatted_description = description.applymap(lambda x: f\"{x:.2f}\")\n",
    "formatted_description"
   ]
  },
  {
   "cell_type": "markdown",
   "metadata": {},
   "source": [
    "### Revisión casos puntuales 2023"
   ]
  },
  {
   "cell_type": "code",
   "execution_count": 18,
   "metadata": {},
   "outputs": [],
   "source": [
    "pd_dataset_if_2023 = pd_dataset_filtered.copy()"
   ]
  },
  {
   "cell_type": "code",
   "execution_count": 19,
   "metadata": {},
   "outputs": [
    {
     "data": {
      "text/html": [
       "<div>\n",
       "<style scoped>\n",
       "    .dataframe tbody tr th:only-of-type {\n",
       "        vertical-align: middle;\n",
       "    }\n",
       "\n",
       "    .dataframe tbody tr th {\n",
       "        vertical-align: top;\n",
       "    }\n",
       "\n",
       "    .dataframe thead th {\n",
       "        text-align: right;\n",
       "    }\n",
       "</style>\n",
       "<table border=\"1\" class=\"dataframe\">\n",
       "  <thead>\n",
       "    <tr style=\"text-align: right;\">\n",
       "      <th></th>\n",
       "      <th>EXPEDIENTE</th>\n",
       "      <th>RUC</th>\n",
       "      <th>ACTIVO_2023</th>\n",
       "      <th>ACTIVO_CORRIENTE_2023</th>\n",
       "      <th>INVENTARIOS_2023</th>\n",
       "      <th>ACTIVOS_NO_CORRIENTES_2023</th>\n",
       "      <th>PASIVO_2023</th>\n",
       "      <th>PASIVO_CORRIENTE_2023</th>\n",
       "      <th>PASIVO_NO_CORRIENTE_2023</th>\n",
       "      <th>PATRIMONIO_NETO_2023</th>\n",
       "      <th>INGRESOS_ACTIVIDADES_ORDINARIAS_2023</th>\n",
       "      <th>GANANCIA_BRUTA_2023</th>\n",
       "      <th>OTROS_INGRESOS_2023</th>\n",
       "      <th>COSTO_VENTAS_PRODUCCION_2023</th>\n",
       "      <th>GASTOS_2023</th>\n",
       "      <th>UTILIDAD_OPERATIVA_2023</th>\n",
       "      <th>GANACIA_PERDIDA_ANTES_IR_2023</th>\n",
       "      <th>IMPUESTO_RENTA_2023</th>\n",
       "      <th>UTILIDAD_NETA_2023</th>\n",
       "    </tr>\n",
       "  </thead>\n",
       "  <tbody>\n",
       "  </tbody>\n",
       "</table>\n",
       "</div>"
      ],
      "text/plain": [
       "Empty DataFrame\n",
       "Columns: [EXPEDIENTE, RUC, ACTIVO_2023, ACTIVO_CORRIENTE_2023, INVENTARIOS_2023, ACTIVOS_NO_CORRIENTES_2023, PASIVO_2023, PASIVO_CORRIENTE_2023, PASIVO_NO_CORRIENTE_2023, PATRIMONIO_NETO_2023, INGRESOS_ACTIVIDADES_ORDINARIAS_2023, GANANCIA_BRUTA_2023, OTROS_INGRESOS_2023, COSTO_VENTAS_PRODUCCION_2023, GASTOS_2023, UTILIDAD_OPERATIVA_2023, GANACIA_PERDIDA_ANTES_IR_2023, IMPUESTO_RENTA_2023, UTILIDAD_NETA_2023]\n",
       "Index: []"
      ]
     },
     "execution_count": 19,
     "metadata": {},
     "output_type": "execute_result"
    }
   ],
   "source": [
    "# 14272  1792701341001  90.262597  -13.776378\n",
    "# 26976  0993261068001  31.702556  219.933084\n",
    "# 29587  0993372222001  16.300589   41.626631\n",
    "# 9801   0992735120001  11.958218   82.614101\n",
    "# 18806  0993261068001  28.606353  181.455280\n",
    "# 20552  0993372222001  14.541973   34.095984\n",
    "# 7313   0992735120001  10.800392   68.133014\n",
    "\n",
    "pd_dataset_if_2023[pd_dataset_if_2023['RUC']=='1391932908001']"
   ]
  },
  {
   "cell_type": "markdown",
   "metadata": {},
   "source": [
    "### Exportar Dataset 2023"
   ]
  },
  {
   "cell_type": "code",
   "execution_count": 20,
   "metadata": {},
   "outputs": [
    {
     "name": "stdout",
     "output_type": "stream",
     "text": [
      "Dimensiones final del conjunto de datos: \n",
      " Filas: 125515  \n",
      " Columnas: 19\n"
     ]
    }
   ],
   "source": [
    "print(f\"Dimensiones final del conjunto de datos: \\n Filas: {pd_dataset_if_2023.shape[0]}  \\n Columnas: {pd_dataset_if_2023.shape[1]}\")\n",
    "\n",
    "pd_dataset_if_2023.to_csv('Datasets Procesados/informacion_financiera_2023.csv', index=False)\n"
   ]
  },
  {
   "cell_type": "markdown",
   "metadata": {},
   "source": [
    "## PROCESAMIENTO Información Financiera 2022"
   ]
  },
  {
   "cell_type": "markdown",
   "metadata": {},
   "source": [
    "### Cargar y Procesamiento Dataset"
   ]
  },
  {
   "cell_type": "code",
   "execution_count": 21,
   "metadata": {},
   "outputs": [
    {
     "name": "stderr",
     "output_type": "stream",
     "text": [
      "C:\\Users\\fabrizio\\AppData\\Local\\Temp\\ipykernel_11208\\2123299058.py:2: DtypeWarning: Columns (14,15,16,17,18,19,20,21,22,23,24,25,26,27,28,29,30,31,32,33,34,35,36,37,38,39,40,41,42,43,44,45,46,47,48,49,50,51,52,53,54,55,56,57,58,59,60,61,62,64,65,66,67,68,69,70,71,72,73,74,75,76,77,78,80,81,82,83,84,85,86,87,88,89,90,92,93,94,95,96,97,98,99,101,102,103,104,105,106,107,108,109,110,111,118,119,120,121,122,123,124,125,126,127,128,129,130,131,132,133,134,141,143,144,145,146,147,149,151,152,153,155,158,164,165,166,176,180,182,183,184,185,186,187,188,189,190,191,192,193,194,195,196,197,198,199,200,201,202,204,205,206,207,208,209,212,213,214,215,216,217,218,219,220,221,222,224,225,226,227,228,229,230,231,232,233,235,236,237,240,241,242,245,246,253,255,258,261,262,263,264,265,266,267,272,274,280,283,284,285,286,287,290,291,293,296,297,298,299,300,301,302,303,304,305,306,308,310,313,314,315,316,317,318,319,321,322,326,327,329,330,331,332,333,334,335,336,337,338,339,340,341,342,343,344,345,346,347,348,349,350,356,357,358,359,360,362,365,366,367,368,369,370,374,375,376,377,378,382,387,388,390,391,392,393,394,395,396,397,398,399,400,401,402,403,404,405,406,407,408,409,410,411,412,413,414,415,416,417,418,419,421,422,423,424,425,426,427,428,429,430,431,434,435,439,441,443,444,445,446,447,448,449,450,451,452,453,454,455,456,457,458,459,460,461,462,465,466,467,473,475,476,477,478,480,482,483,485,486,487,488,489,490,491,492,493,494,495,496,497,498,499,500,501,502,503,504,505,506,507,508,509,510,512,514,515,516,517,518,519,520,522,523,524,525,526,527,528,529,530,532,536,537,538,539,540,541,542,543,544,545,546,547,548,550,551,552,553,554,555,561,562,563,564,565,566,567,568,569,570,571,572,573,574,575,576,577,578,579,580,581,582,583,584,586,587,588,589,590,591,592,593,594,595,598,605,606,608,609,614,616,617,618,619,620,621,622,623,624,625,628) have mixed types. Specify dtype option on import or set low_memory=False.\n",
      "  pd_dataset = pd.read_csv(file_path, dtype={'RUC': 'object', 'EXPEDIENTE': 'object'}, delimiter='\\t', encoding='latin1')\n"
     ]
    }
   ],
   "source": [
    "file_path = \"Datasets\\\\estadosFinancieros_2022\\\\balances_2022_1.txt\"\n",
    "pd_dataset = pd.read_csv(file_path, dtype={'RUC': 'object', 'EXPEDIENTE': 'object'}, delimiter='\\t', encoding='latin1')"
   ]
  },
  {
   "cell_type": "code",
   "execution_count": 22,
   "metadata": {},
   "outputs": [],
   "source": [
    "pd_dataset_filtered = pd_dataset[['EXPEDIENTE', 'RUC', \n",
    "                                  'CUENTA_1', 'CUENTA_101', 'CUENTA_10103', 'CUENTA_102',\n",
    "                                  'CUENTA_2', 'CUENTA_201', 'CUENTA_202', \n",
    "                                  'CUENTA_3', \n",
    "                                  'CUENTA_401', 'CUENTA_402', 'CUENTA_403', \n",
    "                                  'CUENTA_501','CUENTA_502', \n",
    "                                  'CUENTA_600', 'CUENTA_602', 'CUENTA_603', 'CUENTA_607' ]]"
   ]
  },
  {
   "cell_type": "code",
   "execution_count": 23,
   "metadata": {},
   "outputs": [
    {
     "name": "stderr",
     "output_type": "stream",
     "text": [
      "C:\\Users\\fabrizio\\AppData\\Local\\Temp\\ipykernel_11208\\2166610538.py:8: SettingWithCopyWarning: \n",
      "A value is trying to be set on a copy of a slice from a DataFrame.\n",
      "Try using .loc[row_indexer,col_indexer] = value instead\n",
      "\n",
      "See the caveats in the documentation: https://pandas.pydata.org/pandas-docs/stable/user_guide/indexing.html#returning-a-view-versus-a-copy\n",
      "  pd_dataset_filtered[num_columns] = pd_dataset_filtered[num_columns].apply(\n"
     ]
    }
   ],
   "source": [
    "num_columns = ['CUENTA_1', 'CUENTA_101', 'CUENTA_10103', 'CUENTA_102', \n",
    "               'CUENTA_2', 'CUENTA_201', 'CUENTA_202', \n",
    "               'CUENTA_3', \n",
    "                'CUENTA_401', 'CUENTA_402', 'CUENTA_403', \n",
    "                'CUENTA_501', 'CUENTA_502', \n",
    "                'CUENTA_600','CUENTA_602', 'CUENTA_603', 'CUENTA_607' ]\n",
    "\n",
    "pd_dataset_filtered[num_columns] = pd_dataset_filtered[num_columns].apply(\n",
    "    lambda col: pd.to_numeric(col.str.replace('.', '', regex=False).str.replace(',', '.', regex=False))\n",
    ")"
   ]
  },
  {
   "cell_type": "code",
   "execution_count": 24,
   "metadata": {},
   "outputs": [],
   "source": [
    "diccionario_2022 = {\n",
    "    'CUENTA_1': 'ACTIVO_2022',\n",
    "    'CUENTA_101': 'ACTIVO_CORRIENTE_2022',\n",
    "    'CUENTA_10103': 'INVENTARIOS_2022',\n",
    "    'CUENTA_102': 'ACTIVOS_NO_CORRIENTES_2022',\n",
    "    'CUENTA_2': 'PASIVO_2022',\n",
    "    'CUENTA_201': 'PASIVO_CORRIENTE_2022',\n",
    "    'CUENTA_202': 'PASIVO_NO_CORRIENTE_2022',\n",
    "    'CUENTA_3': 'PATRIMONIO_NETO_2022',\n",
    "    'CUENTA_401': 'INGRESOS_ACTIVIDADES_ORDINARIAS_2022',\n",
    "    'CUENTA_402': 'GANANCIA_BRUTA_2022',\n",
    "    'CUENTA_403': 'OTROS_INGRESOS_2022',\n",
    "    'CUENTA_501': 'COSTO_VENTAS_PRODUCCION_2022',\n",
    "    'CUENTA_502': 'GASTOS_2022',    \n",
    "    'CUENTA_600': 'UTILIDAD_OPERATIVA_2022',\n",
    "    'CUENTA_602': 'GANACIA_PERDIDA_ANTES_IR_2022',\n",
    "    'CUENTA_603': 'IMPUESTO_RENTA_2022',\n",
    "    'CUENTA_607': 'UTILIDAD_NETA_2022'\n",
    "    }"
   ]
  },
  {
   "cell_type": "code",
   "execution_count": 25,
   "metadata": {},
   "outputs": [],
   "source": [
    "pd_dataset_filtered = pd_dataset_filtered.rename(columns=diccionario_2022)"
   ]
  },
  {
   "cell_type": "code",
   "execution_count": 26,
   "metadata": {},
   "outputs": [],
   "source": [
    "pd_dataset_if_2022 = pd_dataset_filtered.copy()"
   ]
  },
  {
   "cell_type": "markdown",
   "metadata": {},
   "source": [
    "### Exportar Dataset 2022"
   ]
  },
  {
   "cell_type": "code",
   "execution_count": 27,
   "metadata": {},
   "outputs": [
    {
     "name": "stdout",
     "output_type": "stream",
     "text": [
      "Dimensiones final del conjunto de datos: \n",
      " Filas: 119126  \n",
      " Columnas: 19\n"
     ]
    }
   ],
   "source": [
    "print(f\"Dimensiones final del conjunto de datos: \\n Filas: {pd_dataset_if_2022.shape[0]}  \\n Columnas: {pd_dataset_if_2022.shape[1]}\")\n",
    "pd_dataset_if_2022.to_csv('Datasets Procesados/informacion_financiera_2022.csv', index=False)"
   ]
  },
  {
   "cell_type": "markdown",
   "metadata": {},
   "source": [
    "### Revisión de casos particulares 2022"
   ]
  },
  {
   "cell_type": "code",
   "execution_count": 28,
   "metadata": {},
   "outputs": [
    {
     "data": {
      "text/html": [
       "<div>\n",
       "<style scoped>\n",
       "    .dataframe tbody tr th:only-of-type {\n",
       "        vertical-align: middle;\n",
       "    }\n",
       "\n",
       "    .dataframe tbody tr th {\n",
       "        vertical-align: top;\n",
       "    }\n",
       "\n",
       "    .dataframe thead th {\n",
       "        text-align: right;\n",
       "    }\n",
       "</style>\n",
       "<table border=\"1\" class=\"dataframe\">\n",
       "  <thead>\n",
       "    <tr style=\"text-align: right;\">\n",
       "      <th></th>\n",
       "      <th>EXPEDIENTE</th>\n",
       "      <th>RUC</th>\n",
       "      <th>ACTIVO_2022</th>\n",
       "      <th>ACTIVO_CORRIENTE_2022</th>\n",
       "      <th>INVENTARIOS_2022</th>\n",
       "      <th>ACTIVOS_NO_CORRIENTES_2022</th>\n",
       "      <th>PASIVO_2022</th>\n",
       "      <th>PASIVO_CORRIENTE_2022</th>\n",
       "      <th>PASIVO_NO_CORRIENTE_2022</th>\n",
       "      <th>PATRIMONIO_NETO_2022</th>\n",
       "      <th>INGRESOS_ACTIVIDADES_ORDINARIAS_2022</th>\n",
       "      <th>GANANCIA_BRUTA_2022</th>\n",
       "      <th>OTROS_INGRESOS_2022</th>\n",
       "      <th>COSTO_VENTAS_PRODUCCION_2022</th>\n",
       "      <th>GASTOS_2022</th>\n",
       "      <th>UTILIDAD_OPERATIVA_2022</th>\n",
       "      <th>GANACIA_PERDIDA_ANTES_IR_2022</th>\n",
       "      <th>IMPUESTO_RENTA_2022</th>\n",
       "      <th>UTILIDAD_NETA_2022</th>\n",
       "    </tr>\n",
       "  </thead>\n",
       "  <tbody>\n",
       "    <tr>\n",
       "      <th>78787</th>\n",
       "      <td>338016</td>\n",
       "      <td>1391932908001</td>\n",
       "      <td>10.0</td>\n",
       "      <td>10.0</td>\n",
       "      <td>0.0</td>\n",
       "      <td>0.0</td>\n",
       "      <td>0.0</td>\n",
       "      <td>0.0</td>\n",
       "      <td>0.0</td>\n",
       "      <td>10.0</td>\n",
       "      <td>0.0</td>\n",
       "      <td>0.0</td>\n",
       "      <td>0.0</td>\n",
       "      <td>0.0</td>\n",
       "      <td>0.0</td>\n",
       "      <td>0.0</td>\n",
       "      <td>0.0</td>\n",
       "      <td>0.0</td>\n",
       "      <td>0.0</td>\n",
       "    </tr>\n",
       "  </tbody>\n",
       "</table>\n",
       "</div>"
      ],
      "text/plain": [
       "      EXPEDIENTE            RUC  ACTIVO_2022  ACTIVO_CORRIENTE_2022  \\\n",
       "78787     338016  1391932908001         10.0                   10.0   \n",
       "\n",
       "       INVENTARIOS_2022  ACTIVOS_NO_CORRIENTES_2022  PASIVO_2022  \\\n",
       "78787               0.0                         0.0          0.0   \n",
       "\n",
       "       PASIVO_CORRIENTE_2022  PASIVO_NO_CORRIENTE_2022  PATRIMONIO_NETO_2022  \\\n",
       "78787                    0.0                       0.0                  10.0   \n",
       "\n",
       "       INGRESOS_ACTIVIDADES_ORDINARIAS_2022  GANANCIA_BRUTA_2022  \\\n",
       "78787                                   0.0                  0.0   \n",
       "\n",
       "       OTROS_INGRESOS_2022  COSTO_VENTAS_PRODUCCION_2022  GASTOS_2022  \\\n",
       "78787                  0.0                           0.0          0.0   \n",
       "\n",
       "       UTILIDAD_OPERATIVA_2022  GANACIA_PERDIDA_ANTES_IR_2022  \\\n",
       "78787                      0.0                            0.0   \n",
       "\n",
       "       IMPUESTO_RENTA_2022  UTILIDAD_NETA_2022  \n",
       "78787                  0.0                 0.0  "
      ]
     },
     "execution_count": 28,
     "metadata": {},
     "output_type": "execute_result"
    }
   ],
   "source": [
    "# 14272  1792701341001  90.262597  -13.776378\n",
    "# 26976  0993261068001  31.702556  219.933084\n",
    "# 29587  0993372222001  16.300589   41.626631\n",
    "# 9801   0992735120001  11.958218   82.614101\n",
    "# 18806  0993261068001  28.606353  181.455280\n",
    "# 20552  0993372222001  14.541973   34.095984\n",
    "# 7313   0992735120001  10.800392   68.133014\n",
    "\n",
    "pd_dataset_if_2022[pd_dataset_if_2022['RUC']=='1391932908001']\n",
    "# Se detectan empresas que registran INGRESOS pero no EGRESOS ni impuesto a la renta."
   ]
  }
 ],
 "metadata": {
  "kernelspec": {
   "display_name": "Python 3",
   "language": "python",
   "name": "python3"
  },
  "language_info": {
   "codemirror_mode": {
    "name": "ipython",
    "version": 3
   },
   "file_extension": ".py",
   "mimetype": "text/x-python",
   "name": "python",
   "nbconvert_exporter": "python",
   "pygments_lexer": "ipython3",
   "version": "3.12.5"
  }
 },
 "nbformat": 4,
 "nbformat_minor": 2
}
