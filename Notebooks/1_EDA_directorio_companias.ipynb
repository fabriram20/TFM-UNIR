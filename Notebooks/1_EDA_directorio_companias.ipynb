{
 "cells": [
  {
   "cell_type": "markdown",
   "metadata": {},
   "source": [
    "# 1 - EDA DATASET DIRECTORIO DE COMPAÑIAS DE LA SUPERINTENDENCIA\n",
    "\n",
    "**AUTOR: Fabrizio Ramirez Cutimbo**\n",
    "\n",
    "**OBJETIVOS:**\n",
    "\n",
    "- Realizar un Análisis Exploratorio de Datos del dataset directorio_companias.xlsx que fue extraido de la Superintendencia de Compañías, Valores y Seguros del Ecuador.\n",
    "- Limpiar registros anómalos y completar valores ausentes en el dataset.\n",
    "- Enriquecer el conjunto de datos y desagregar columnas.\n",
    "---"
   ]
  },
  {
   "cell_type": "code",
   "execution_count": 1,
   "metadata": {},
   "outputs": [],
   "source": [
    "# Importar Librerias\n",
    "import pandas as pd\n",
    "import numpy as np\n",
    "import re\n",
    "import matplotlib.pyplot as plt\n",
    "import seaborn as sns"
   ]
  },
  {
   "cell_type": "markdown",
   "metadata": {},
   "source": [
    "### Cargar Datasets"
   ]
  },
  {
   "cell_type": "code",
   "execution_count": 2,
   "metadata": {},
   "outputs": [
    {
     "name": "stderr",
     "output_type": "stream",
     "text": [
      "c:\\Users\\fabrizio\\AppData\\Local\\Programs\\Python\\Python312\\Lib\\site-packages\\openpyxl\\styles\\stylesheet.py:237: UserWarning: Workbook contains no default style, apply openpyxl's default\n",
      "  warn(\"Workbook contains no default style, apply openpyxl's default\")\n"
     ]
    },
    {
     "data": {
      "text/html": [
       "<div>\n",
       "<style scoped>\n",
       "    .dataframe tbody tr th:only-of-type {\n",
       "        vertical-align: middle;\n",
       "    }\n",
       "\n",
       "    .dataframe tbody tr th {\n",
       "        vertical-align: top;\n",
       "    }\n",
       "\n",
       "    .dataframe thead th {\n",
       "        text-align: right;\n",
       "    }\n",
       "</style>\n",
       "<table border=\"1\" class=\"dataframe\">\n",
       "  <thead>\n",
       "    <tr style=\"text-align: right;\">\n",
       "      <th></th>\n",
       "      <th>No. FILA</th>\n",
       "      <th>EXPEDIENTE</th>\n",
       "      <th>RUC</th>\n",
       "      <th>NOMBRE</th>\n",
       "      <th>SITUACIÓN LEGAL</th>\n",
       "      <th>FECHA_CONSTITUCION</th>\n",
       "      <th>TIPO</th>\n",
       "      <th>PAÍS</th>\n",
       "      <th>REGIÓN</th>\n",
       "      <th>PROVINCIA</th>\n",
       "      <th>...</th>\n",
       "      <th>BARRIO</th>\n",
       "      <th>TELÉFONO</th>\n",
       "      <th>REPRESENTANTE</th>\n",
       "      <th>CARGO</th>\n",
       "      <th>CAPITAL SUSCRITO</th>\n",
       "      <th>CIIU NIVEL 1</th>\n",
       "      <th>CIIU NIVEL 6</th>\n",
       "      <th>ÚLTIMO BALANCE</th>\n",
       "      <th>PRESENTÓ BALANCE INICIAL</th>\n",
       "      <th>FECHA PRESENTACIÓN BALANCE INICIAL</th>\n",
       "    </tr>\n",
       "  </thead>\n",
       "  <tbody>\n",
       "  </tbody>\n",
       "</table>\n",
       "<p>0 rows × 25 columns</p>\n",
       "</div>"
      ],
      "text/plain": [
       "Empty DataFrame\n",
       "Columns: [No. FILA, EXPEDIENTE, RUC, NOMBRE, SITUACIÓN LEGAL, FECHA_CONSTITUCION, TIPO, PAÍS, REGIÓN, PROVINCIA, CANTÓN, CIUDAD, CALLE, NÚMERO, INTERSECCIÓN, BARRIO, TELÉFONO, REPRESENTANTE, CARGO, CAPITAL SUSCRITO, CIIU NIVEL 1, CIIU NIVEL 6, ÚLTIMO BALANCE, PRESENTÓ BALANCE INICIAL, FECHA PRESENTACIÓN BALANCE INICIAL]\n",
       "Index: []\n",
       "\n",
       "[0 rows x 25 columns]"
      ]
     },
     "execution_count": 2,
     "metadata": {},
     "output_type": "execute_result"
    }
   ],
   "source": [
    "# Carga de dataset directorio de compañías, se desplaza los headers hasta la fila 4\n",
    "pd_dataset = pd.read_excel('directorio_companias.xlsx', dtype={'RUC': 'object'}, header=4)\n",
    "# Carga de dataset de CIIU (Recurso de la Superintendencia de Compañias)\n",
    "pd_dataset_ciiu = pd.read_csv(\"Datasets\\\\bi_ciiu.csv\")\n",
    "\n",
    "# Imprimir una muestra SOLO CABECERAS\n",
    "pd_dataset.sample(0)"
   ]
  },
  {
   "cell_type": "markdown",
   "metadata": {},
   "source": [
    "### Dimensión y columnas"
   ]
  },
  {
   "cell_type": "code",
   "execution_count": 3,
   "metadata": {},
   "outputs": [
    {
     "name": "stdout",
     "output_type": "stream",
     "text": [
      "Dimensiones del conjunto de datos: \n",
      " Filas: 213157  \n",
      " Columnas: 25\n"
     ]
    }
   ],
   "source": [
    "print(f\"Dimensiones del conjunto de datos: \\n Filas: {pd_dataset.shape[0]}  \\n Columnas: {pd_dataset.shape[1]}\")"
   ]
  },
  {
   "cell_type": "code",
   "execution_count": 4,
   "metadata": {},
   "outputs": [
    {
     "data": {
      "text/plain": [
       "Index(['No. FILA', 'EXPEDIENTE', 'RUC', 'NOMBRE', 'SITUACIÓN LEGAL',\n",
       "       'FECHA_CONSTITUCION', 'TIPO', 'PAÍS', 'REGIÓN', 'PROVINCIA', 'CANTÓN',\n",
       "       'CIUDAD', 'CALLE', 'NÚMERO', 'INTERSECCIÓN', 'BARRIO', 'TELÉFONO',\n",
       "       'REPRESENTANTE', 'CARGO', 'CAPITAL SUSCRITO', 'CIIU NIVEL 1',\n",
       "       'CIIU NIVEL 6', 'ÚLTIMO BALANCE', 'PRESENTÓ BALANCE INICIAL',\n",
       "       'FECHA PRESENTACIÓN BALANCE INICIAL'],\n",
       "      dtype='object')"
      ]
     },
     "execution_count": 4,
     "metadata": {},
     "output_type": "execute_result"
    }
   ],
   "source": [
    "pd_dataset.columns"
   ]
  },
  {
   "cell_type": "code",
   "execution_count": 5,
   "metadata": {},
   "outputs": [
    {
     "data": {
      "text/plain": [
       "No. FILA                                int64\n",
       "EXPEDIENTE                              int64\n",
       "RUC                                    object\n",
       "NOMBRE                                 object\n",
       "SITUACIÓN LEGAL                        object\n",
       "FECHA_CONSTITUCION                     object\n",
       "TIPO                                   object\n",
       "PAÍS                                   object\n",
       "REGIÓN                                 object\n",
       "PROVINCIA                              object\n",
       "CANTÓN                                 object\n",
       "CIUDAD                                 object\n",
       "CALLE                                  object\n",
       "NÚMERO                                 object\n",
       "INTERSECCIÓN                           object\n",
       "BARRIO                                 object\n",
       "TELÉFONO                               object\n",
       "REPRESENTANTE                          object\n",
       "CARGO                                  object\n",
       "CAPITAL SUSCRITO                       object\n",
       "CIIU NIVEL 1                           object\n",
       "CIIU NIVEL 6                           object\n",
       "ÚLTIMO BALANCE                        float64\n",
       "PRESENTÓ BALANCE INICIAL               object\n",
       "FECHA PRESENTACIÓN BALANCE INICIAL     object\n",
       "dtype: object"
      ]
     },
     "execution_count": 5,
     "metadata": {},
     "output_type": "execute_result"
    }
   ],
   "source": [
    "pd_dataset.dtypes"
   ]
  },
  {
   "cell_type": "markdown",
   "metadata": {},
   "source": [
    "### Numero de Nulos"
   ]
  },
  {
   "cell_type": "markdown",
   "metadata": {},
   "source": [
    "+ Tabla con porcentaje de nullidad por columna."
   ]
  },
  {
   "cell_type": "code",
   "execution_count": 6,
   "metadata": {},
   "outputs": [
    {
     "data": {
      "text/plain": [
       "No. FILA                               0.000000\n",
       "EXPEDIENTE                             0.000000\n",
       "RUC                                    2.828901\n",
       "NOMBRE                                 0.000000\n",
       "SITUACIÓN LEGAL                        0.000000\n",
       "FECHA_CONSTITUCION                     0.000000\n",
       "TIPO                                   0.000000\n",
       "PAÍS                                   0.000000\n",
       "REGIÓN                                 0.000000\n",
       "PROVINCIA                              0.000000\n",
       "CANTÓN                                 0.000000\n",
       "CIUDAD                                 0.000000\n",
       "CALLE                                  0.436298\n",
       "NÚMERO                                 2.611690\n",
       "INTERSECCIÓN                           3.936535\n",
       "BARRIO                                55.375615\n",
       "TELÉFONO                               2.955568\n",
       "REPRESENTANTE                          1.392401\n",
       "CARGO                                  1.392401\n",
       "CAPITAL SUSCRITO                       0.207359\n",
       "CIIU NIVEL 1                           0.132766\n",
       "CIIU NIVEL 6                           0.132766\n",
       "ÚLTIMO BALANCE                        22.466539\n",
       "PRESENTÓ BALANCE INICIAL               0.000000\n",
       "FECHA PRESENTACIÓN BALANCE INICIAL     9.819054\n",
       "dtype: float64"
      ]
     },
     "execution_count": 6,
     "metadata": {},
     "output_type": "execute_result"
    }
   ],
   "source": [
    "# Calcular el porcentaje de valores nulos por columna\n",
    "pd_dataset.isnull().mean() * 100"
   ]
  },
  {
   "cell_type": "markdown",
   "metadata": {},
   "source": [
    "+ La columna RUC es la que hace la vez de clave ID, se deben analizar los casos nulos."
   ]
  },
  {
   "cell_type": "code",
   "execution_count": 7,
   "metadata": {},
   "outputs": [
    {
     "data": {
      "text/plain": [
       "No. FILA                                   0\n",
       "EXPEDIENTE                                 0\n",
       "RUC                                     6030\n",
       "NOMBRE                                     0\n",
       "SITUACIÓN LEGAL                            0\n",
       "FECHA_CONSTITUCION                         0\n",
       "TIPO                                       0\n",
       "PAÍS                                       0\n",
       "REGIÓN                                     0\n",
       "PROVINCIA                                  0\n",
       "CANTÓN                                     0\n",
       "CIUDAD                                     0\n",
       "CALLE                                    930\n",
       "NÚMERO                                  5567\n",
       "INTERSECCIÓN                            8391\n",
       "BARRIO                                118037\n",
       "TELÉFONO                                6300\n",
       "REPRESENTANTE                           2968\n",
       "CARGO                                   2968\n",
       "CAPITAL SUSCRITO                         442\n",
       "CIIU NIVEL 1                             283\n",
       "CIIU NIVEL 6                             283\n",
       "ÚLTIMO BALANCE                         47889\n",
       "PRESENTÓ BALANCE INICIAL                   0\n",
       "FECHA PRESENTACIÓN BALANCE INICIAL     20930\n",
       "dtype: int64"
      ]
     },
     "execution_count": 7,
     "metadata": {},
     "output_type": "execute_result"
    }
   ],
   "source": [
    "pd_dataset.isna().sum()"
   ]
  },
  {
   "cell_type": "markdown",
   "metadata": {},
   "source": [
    "### Valores únicos"
   ]
  },
  {
   "cell_type": "markdown",
   "metadata": {},
   "source": [
    "Tipos de Empresas: \n",
    "\n",
    "Para este trabjar se utilizarán solo los tipos:\n",
    "+ Anonimas: Empresas que trabajan por acciones\n",
    "+ SAS: Nuevo tipo de empresas de fácil constitución\n",
    "+ Responsabilidad Limitadad: Hasta 15 socios\n",
    "\n",
    "Se calcula la frecuencia absoluta"
   ]
  },
  {
   "cell_type": "code",
   "execution_count": 8,
   "metadata": {},
   "outputs": [
    {
     "data": {
      "text/html": [
       "<div>\n",
       "<style scoped>\n",
       "    .dataframe tbody tr th:only-of-type {\n",
       "        vertical-align: middle;\n",
       "    }\n",
       "\n",
       "    .dataframe tbody tr th {\n",
       "        vertical-align: top;\n",
       "    }\n",
       "\n",
       "    .dataframe thead th {\n",
       "        text-align: right;\n",
       "    }\n",
       "</style>\n",
       "<table border=\"1\" class=\"dataframe\">\n",
       "  <thead>\n",
       "    <tr style=\"text-align: right;\">\n",
       "      <th></th>\n",
       "      <th>TIPO</th>\n",
       "      <th>Nro TOTAL</th>\n",
       "    </tr>\n",
       "  </thead>\n",
       "  <tbody>\n",
       "    <tr>\n",
       "      <th>0</th>\n",
       "      <td>ANÓNIMA</td>\n",
       "      <td>101905</td>\n",
       "    </tr>\n",
       "    <tr>\n",
       "      <th>1</th>\n",
       "      <td>SOCIEDAD POR ACCIONES SIMPLIFICADA</td>\n",
       "      <td>63546</td>\n",
       "    </tr>\n",
       "    <tr>\n",
       "      <th>2</th>\n",
       "      <td>RESPONSABILIDAD LIMITADA</td>\n",
       "      <td>46004</td>\n",
       "    </tr>\n",
       "    <tr>\n",
       "      <th>3</th>\n",
       "      <td>SUCURSAL  EXTRANJERA</td>\n",
       "      <td>1377</td>\n",
       "    </tr>\n",
       "    <tr>\n",
       "      <th>4</th>\n",
       "      <td>ASOCIACIÓN O CONSORCIO</td>\n",
       "      <td>158</td>\n",
       "    </tr>\n",
       "    <tr>\n",
       "      <th>5</th>\n",
       "      <td>ANÓNIMA  EN PREDIOS RÚSTICOS</td>\n",
       "      <td>82</td>\n",
       "    </tr>\n",
       "    <tr>\n",
       "      <th>6</th>\n",
       "      <td>ECONOMÍA MIXTA</td>\n",
       "      <td>70</td>\n",
       "    </tr>\n",
       "    <tr>\n",
       "      <th>7</th>\n",
       "      <td>ANÓNIMA MULTINACIONAL ANDINA</td>\n",
       "      <td>11</td>\n",
       "    </tr>\n",
       "    <tr>\n",
       "      <th>8</th>\n",
       "      <td>COMANDITA POR ACCIONES</td>\n",
       "      <td>4</td>\n",
       "    </tr>\n",
       "  </tbody>\n",
       "</table>\n",
       "</div>"
      ],
      "text/plain": [
       "                                 TIPO  Nro TOTAL\n",
       "0                             ANÓNIMA     101905\n",
       "1  SOCIEDAD POR ACCIONES SIMPLIFICADA      63546\n",
       "2            RESPONSABILIDAD LIMITADA      46004\n",
       "3                SUCURSAL  EXTRANJERA       1377\n",
       "4              ASOCIACIÓN O CONSORCIO        158\n",
       "5        ANÓNIMA  EN PREDIOS RÚSTICOS         82\n",
       "6                      ECONOMÍA MIXTA         70\n",
       "7        ANÓNIMA MULTINACIONAL ANDINA         11\n",
       "8              COMANDITA POR ACCIONES          4"
      ]
     },
     "execution_count": 8,
     "metadata": {},
     "output_type": "execute_result"
    }
   ],
   "source": [
    "pd.DataFrame(pd_dataset['TIPO'].value_counts().reset_index(name='Nro TOTAL'))"
   ]
  },
  {
   "cell_type": "markdown",
   "metadata": {},
   "source": [
    "Situación Legal: \n",
    "\n",
    "+ Se seleccionarán las compañías que se encuentren ACTIVAS"
   ]
  },
  {
   "cell_type": "code",
   "execution_count": 9,
   "metadata": {},
   "outputs": [
    {
     "data": {
      "text/html": [
       "<div>\n",
       "<style scoped>\n",
       "    .dataframe tbody tr th:only-of-type {\n",
       "        vertical-align: middle;\n",
       "    }\n",
       "\n",
       "    .dataframe tbody tr th {\n",
       "        vertical-align: top;\n",
       "    }\n",
       "\n",
       "    .dataframe thead th {\n",
       "        text-align: right;\n",
       "    }\n",
       "</style>\n",
       "<table border=\"1\" class=\"dataframe\">\n",
       "  <thead>\n",
       "    <tr style=\"text-align: right;\">\n",
       "      <th></th>\n",
       "      <th>SITUACIÓN LEGAL</th>\n",
       "      <th>Nro TOTAL</th>\n",
       "    </tr>\n",
       "  </thead>\n",
       "  <tbody>\n",
       "    <tr>\n",
       "      <th>0</th>\n",
       "      <td>ACTIVA</td>\n",
       "      <td>167900</td>\n",
       "    </tr>\n",
       "    <tr>\n",
       "      <th>1</th>\n",
       "      <td>DISOLUCIÓN Y LIQUIDACIÓN OFICIO INSCRITA EN RM</td>\n",
       "      <td>27787</td>\n",
       "    </tr>\n",
       "    <tr>\n",
       "      <th>2</th>\n",
       "      <td>DISOLUCIÓN Y LIQUIDACIÓN DE PLENO DERECHO INSC...</td>\n",
       "      <td>8151</td>\n",
       "    </tr>\n",
       "    <tr>\n",
       "      <th>3</th>\n",
       "      <td>DISOLUCIÓN Y LIQUIDACIÓN OFICIO NO INSCRITA EN RM</td>\n",
       "      <td>6469</td>\n",
       "    </tr>\n",
       "    <tr>\n",
       "      <th>4</th>\n",
       "      <td>INACTIVA</td>\n",
       "      <td>830</td>\n",
       "    </tr>\n",
       "    <tr>\n",
       "      <th>5</th>\n",
       "      <td>DISOLUCIÓN Y LIQUIDACIÓN ANTICIPADA INSCRITA RM</td>\n",
       "      <td>659</td>\n",
       "    </tr>\n",
       "    <tr>\n",
       "      <th>6</th>\n",
       "      <td>DISOLUCIÓN Y LIQUIDACIÓN ANTIC. NO INSCRITA EN RM</td>\n",
       "      <td>566</td>\n",
       "    </tr>\n",
       "    <tr>\n",
       "      <th>7</th>\n",
       "      <td>DISOLUCIÓN Y LIQUIDACIÓ DE PLENO DERECHO NO IN...</td>\n",
       "      <td>281</td>\n",
       "    </tr>\n",
       "    <tr>\n",
       "      <th>8</th>\n",
       "      <td>CANCELACIÓN PERMISO OPERACIÓN - OFICIO INSCRIT...</td>\n",
       "      <td>211</td>\n",
       "    </tr>\n",
       "    <tr>\n",
       "      <th>9</th>\n",
       "      <td>NO SUJETO A CONTROL Y VIGILANCIA DE SCVS ART 432</td>\n",
       "      <td>158</td>\n",
       "    </tr>\n",
       "    <tr>\n",
       "      <th>10</th>\n",
       "      <td>CANCELACIÓN PERMISO OPERACIÓN - OFICIO NO INSC...</td>\n",
       "      <td>80</td>\n",
       "    </tr>\n",
       "    <tr>\n",
       "      <th>11</th>\n",
       "      <td>CANCELACIÓN PERMISO OPERACIÓN - VOLUNT INSCRIT...</td>\n",
       "      <td>55</td>\n",
       "    </tr>\n",
       "    <tr>\n",
       "      <th>12</th>\n",
       "      <td>CANCELACIÓN PERMISO OPERACIÓN - VOLUNT NO INSC...</td>\n",
       "      <td>10</td>\n",
       "    </tr>\n",
       "  </tbody>\n",
       "</table>\n",
       "</div>"
      ],
      "text/plain": [
       "                                      SITUACIÓN LEGAL  Nro TOTAL\n",
       "0                                              ACTIVA     167900\n",
       "1      DISOLUCIÓN Y LIQUIDACIÓN OFICIO INSCRITA EN RM      27787\n",
       "2   DISOLUCIÓN Y LIQUIDACIÓN DE PLENO DERECHO INSC...       8151\n",
       "3   DISOLUCIÓN Y LIQUIDACIÓN OFICIO NO INSCRITA EN RM       6469\n",
       "4                                            INACTIVA        830\n",
       "5     DISOLUCIÓN Y LIQUIDACIÓN ANTICIPADA INSCRITA RM        659\n",
       "6   DISOLUCIÓN Y LIQUIDACIÓN ANTIC. NO INSCRITA EN RM        566\n",
       "7   DISOLUCIÓN Y LIQUIDACIÓ DE PLENO DERECHO NO IN...        281\n",
       "8   CANCELACIÓN PERMISO OPERACIÓN - OFICIO INSCRIT...        211\n",
       "9    NO SUJETO A CONTROL Y VIGILANCIA DE SCVS ART 432        158\n",
       "10  CANCELACIÓN PERMISO OPERACIÓN - OFICIO NO INSC...         80\n",
       "11  CANCELACIÓN PERMISO OPERACIÓN - VOLUNT INSCRIT...         55\n",
       "12  CANCELACIÓN PERMISO OPERACIÓN - VOLUNT NO INSC...         10"
      ]
     },
     "execution_count": 9,
     "metadata": {},
     "output_type": "execute_result"
    }
   ],
   "source": [
    "pd.DataFrame(pd_dataset['SITUACIÓN LEGAL'].value_counts().reset_index(name='Nro TOTAL'))"
   ]
  },
  {
   "cell_type": "markdown",
   "metadata": {},
   "source": [
    "País: \n",
    "\n",
    "+ Se seleccionarán las compañías que son de Ecuador"
   ]
  },
  {
   "cell_type": "code",
   "execution_count": 10,
   "metadata": {},
   "outputs": [
    {
     "data": {
      "text/html": [
       "<div>\n",
       "<style scoped>\n",
       "    .dataframe tbody tr th:only-of-type {\n",
       "        vertical-align: middle;\n",
       "    }\n",
       "\n",
       "    .dataframe tbody tr th {\n",
       "        vertical-align: top;\n",
       "    }\n",
       "\n",
       "    .dataframe thead th {\n",
       "        text-align: right;\n",
       "    }\n",
       "</style>\n",
       "<table border=\"1\" class=\"dataframe\">\n",
       "  <thead>\n",
       "    <tr style=\"text-align: right;\">\n",
       "      <th></th>\n",
       "      <th>PAÍS</th>\n",
       "      <th>Nro TOTAL</th>\n",
       "    </tr>\n",
       "  </thead>\n",
       "  <tbody>\n",
       "    <tr>\n",
       "      <th>0</th>\n",
       "      <td>ECUADOR</td>\n",
       "      <td>211782</td>\n",
       "    </tr>\n",
       "    <tr>\n",
       "      <th>1</th>\n",
       "      <td>COLOMBIA</td>\n",
       "      <td>249</td>\n",
       "    </tr>\n",
       "    <tr>\n",
       "      <th>2</th>\n",
       "      <td>ESPAÑA</td>\n",
       "      <td>237</td>\n",
       "    </tr>\n",
       "    <tr>\n",
       "      <th>3</th>\n",
       "      <td>ESTADOS UNIDOS DE AMERICA</td>\n",
       "      <td>179</td>\n",
       "    </tr>\n",
       "    <tr>\n",
       "      <th>4</th>\n",
       "      <td>PANAMA</td>\n",
       "      <td>104</td>\n",
       "    </tr>\n",
       "    <tr>\n",
       "      <th>...</th>\n",
       "      <td>...</td>\n",
       "      <td>...</td>\n",
       "    </tr>\n",
       "    <tr>\n",
       "      <th>64</th>\n",
       "      <td>QATAR</td>\n",
       "      <td>1</td>\n",
       "    </tr>\n",
       "    <tr>\n",
       "      <th>65</th>\n",
       "      <td>REPUBLICA DOMINICANA</td>\n",
       "      <td>1</td>\n",
       "    </tr>\n",
       "    <tr>\n",
       "      <th>66</th>\n",
       "      <td>KAZAJSTAN</td>\n",
       "      <td>1</td>\n",
       "    </tr>\n",
       "    <tr>\n",
       "      <th>67</th>\n",
       "      <td>JERSEY</td>\n",
       "      <td>1</td>\n",
       "    </tr>\n",
       "    <tr>\n",
       "      <th>68</th>\n",
       "      <td>HONDURAS</td>\n",
       "      <td>1</td>\n",
       "    </tr>\n",
       "  </tbody>\n",
       "</table>\n",
       "<p>69 rows × 2 columns</p>\n",
       "</div>"
      ],
      "text/plain": [
       "                         PAÍS  Nro TOTAL\n",
       "0                     ECUADOR     211782\n",
       "1                    COLOMBIA        249\n",
       "2                      ESPAÑA        237\n",
       "3   ESTADOS UNIDOS DE AMERICA        179\n",
       "4                      PANAMA        104\n",
       "..                        ...        ...\n",
       "64                      QATAR          1\n",
       "65       REPUBLICA DOMINICANA          1\n",
       "66                  KAZAJSTAN          1\n",
       "67                     JERSEY          1\n",
       "68                   HONDURAS          1\n",
       "\n",
       "[69 rows x 2 columns]"
      ]
     },
     "execution_count": 10,
     "metadata": {},
     "output_type": "execute_result"
    }
   ],
   "source": [
    "pd.DataFrame(pd_dataset['PAÍS'].value_counts().reset_index(name='Nro TOTAL'))"
   ]
  },
  {
   "cell_type": "markdown",
   "metadata": {},
   "source": [
    "Región"
   ]
  },
  {
   "cell_type": "code",
   "execution_count": 11,
   "metadata": {},
   "outputs": [
    {
     "data": {
      "text/html": [
       "<div>\n",
       "<style scoped>\n",
       "    .dataframe tbody tr th:only-of-type {\n",
       "        vertical-align: middle;\n",
       "    }\n",
       "\n",
       "    .dataframe tbody tr th {\n",
       "        vertical-align: top;\n",
       "    }\n",
       "\n",
       "    .dataframe thead th {\n",
       "        text-align: right;\n",
       "    }\n",
       "</style>\n",
       "<table border=\"1\" class=\"dataframe\">\n",
       "  <thead>\n",
       "    <tr style=\"text-align: right;\">\n",
       "      <th></th>\n",
       "      <th>REGIÓN</th>\n",
       "      <th>Nro TOTAL</th>\n",
       "    </tr>\n",
       "  </thead>\n",
       "  <tbody>\n",
       "    <tr>\n",
       "      <th>0</th>\n",
       "      <td>COSTA</td>\n",
       "      <td>107425</td>\n",
       "    </tr>\n",
       "    <tr>\n",
       "      <th>1</th>\n",
       "      <td>SIERRA</td>\n",
       "      <td>96943</td>\n",
       "    </tr>\n",
       "    <tr>\n",
       "      <th>2</th>\n",
       "      <td>ORIENTE</td>\n",
       "      <td>7414</td>\n",
       "    </tr>\n",
       "    <tr>\n",
       "      <th>3</th>\n",
       "      <td>GALÁPAGOS</td>\n",
       "      <td>1375</td>\n",
       "    </tr>\n",
       "  </tbody>\n",
       "</table>\n",
       "</div>"
      ],
      "text/plain": [
       "      REGIÓN  Nro TOTAL\n",
       "0      COSTA     107425\n",
       "1     SIERRA      96943\n",
       "2    ORIENTE       7414\n",
       "3  GALÁPAGOS       1375"
      ]
     },
     "execution_count": 11,
     "metadata": {},
     "output_type": "execute_result"
    }
   ],
   "source": [
    "pd.DataFrame(pd_dataset['REGIÓN'].value_counts().reset_index(name='Nro TOTAL'))"
   ]
  },
  {
   "cell_type": "markdown",
   "metadata": {},
   "source": [
    "Provincia"
   ]
  },
  {
   "cell_type": "code",
   "execution_count": 12,
   "metadata": {},
   "outputs": [
    {
     "data": {
      "text/html": [
       "<div>\n",
       "<style scoped>\n",
       "    .dataframe tbody tr th:only-of-type {\n",
       "        vertical-align: middle;\n",
       "    }\n",
       "\n",
       "    .dataframe tbody tr th {\n",
       "        vertical-align: top;\n",
       "    }\n",
       "\n",
       "    .dataframe thead th {\n",
       "        text-align: right;\n",
       "    }\n",
       "</style>\n",
       "<table border=\"1\" class=\"dataframe\">\n",
       "  <thead>\n",
       "    <tr style=\"text-align: right;\">\n",
       "      <th></th>\n",
       "      <th>PROVINCIA</th>\n",
       "      <th>Nro TOTAL</th>\n",
       "    </tr>\n",
       "  </thead>\n",
       "  <tbody>\n",
       "    <tr>\n",
       "      <th>0</th>\n",
       "      <td>GUAYAS</td>\n",
       "      <td>83129</td>\n",
       "    </tr>\n",
       "    <tr>\n",
       "      <th>1</th>\n",
       "      <td>PICHINCHA</td>\n",
       "      <td>66915</td>\n",
       "    </tr>\n",
       "    <tr>\n",
       "      <th>2</th>\n",
       "      <td>AZUAY</td>\n",
       "      <td>10650</td>\n",
       "    </tr>\n",
       "    <tr>\n",
       "      <th>3</th>\n",
       "      <td>MANABI</td>\n",
       "      <td>9807</td>\n",
       "    </tr>\n",
       "    <tr>\n",
       "      <th>4</th>\n",
       "      <td>EL ORO</td>\n",
       "      <td>6728</td>\n",
       "    </tr>\n",
       "    <tr>\n",
       "      <th>5</th>\n",
       "      <td>TUNGURAHUA</td>\n",
       "      <td>3933</td>\n",
       "    </tr>\n",
       "    <tr>\n",
       "      <th>6</th>\n",
       "      <td>LOS RIOS</td>\n",
       "      <td>3401</td>\n",
       "    </tr>\n",
       "    <tr>\n",
       "      <th>7</th>\n",
       "      <td>LOJA</td>\n",
       "      <td>2887</td>\n",
       "    </tr>\n",
       "    <tr>\n",
       "      <th>8</th>\n",
       "      <td>SANTO DOMINGO DE LOS TSACHILAS</td>\n",
       "      <td>2879</td>\n",
       "    </tr>\n",
       "    <tr>\n",
       "      <th>9</th>\n",
       "      <td>IMBABURA</td>\n",
       "      <td>2653</td>\n",
       "    </tr>\n",
       "    <tr>\n",
       "      <th>10</th>\n",
       "      <td>CHIMBORAZO</td>\n",
       "      <td>2408</td>\n",
       "    </tr>\n",
       "    <tr>\n",
       "      <th>11</th>\n",
       "      <td>COTOPAXI</td>\n",
       "      <td>2359</td>\n",
       "    </tr>\n",
       "    <tr>\n",
       "      <th>12</th>\n",
       "      <td>SANTA ELENA</td>\n",
       "      <td>2299</td>\n",
       "    </tr>\n",
       "    <tr>\n",
       "      <th>13</th>\n",
       "      <td>ESMERALDAS</td>\n",
       "      <td>2061</td>\n",
       "    </tr>\n",
       "    <tr>\n",
       "      <th>14</th>\n",
       "      <td>SUCUMBIOS</td>\n",
       "      <td>1839</td>\n",
       "    </tr>\n",
       "    <tr>\n",
       "      <th>15</th>\n",
       "      <td>ORELLANA</td>\n",
       "      <td>1576</td>\n",
       "    </tr>\n",
       "    <tr>\n",
       "      <th>16</th>\n",
       "      <td>GALAPAGOS</td>\n",
       "      <td>1375</td>\n",
       "    </tr>\n",
       "    <tr>\n",
       "      <th>17</th>\n",
       "      <td>ZAMORA CHINCHIPE</td>\n",
       "      <td>1352</td>\n",
       "    </tr>\n",
       "    <tr>\n",
       "      <th>18</th>\n",
       "      <td>MORONA SANTIAGO</td>\n",
       "      <td>1139</td>\n",
       "    </tr>\n",
       "    <tr>\n",
       "      <th>19</th>\n",
       "      <td>CAÑAR</td>\n",
       "      <td>1106</td>\n",
       "    </tr>\n",
       "    <tr>\n",
       "      <th>20</th>\n",
       "      <td>NAPO</td>\n",
       "      <td>754</td>\n",
       "    </tr>\n",
       "    <tr>\n",
       "      <th>21</th>\n",
       "      <td>PASTAZA</td>\n",
       "      <td>754</td>\n",
       "    </tr>\n",
       "    <tr>\n",
       "      <th>22</th>\n",
       "      <td>CARCHI</td>\n",
       "      <td>645</td>\n",
       "    </tr>\n",
       "    <tr>\n",
       "      <th>23</th>\n",
       "      <td>BOLIVAR</td>\n",
       "      <td>508</td>\n",
       "    </tr>\n",
       "  </tbody>\n",
       "</table>\n",
       "</div>"
      ],
      "text/plain": [
       "                         PROVINCIA  Nro TOTAL\n",
       "0                           GUAYAS      83129\n",
       "1                        PICHINCHA      66915\n",
       "2                            AZUAY      10650\n",
       "3                           MANABI       9807\n",
       "4                           EL ORO       6728\n",
       "5                       TUNGURAHUA       3933\n",
       "6                         LOS RIOS       3401\n",
       "7                             LOJA       2887\n",
       "8   SANTO DOMINGO DE LOS TSACHILAS       2879\n",
       "9                         IMBABURA       2653\n",
       "10                      CHIMBORAZO       2408\n",
       "11                        COTOPAXI       2359\n",
       "12                     SANTA ELENA       2299\n",
       "13                      ESMERALDAS       2061\n",
       "14                       SUCUMBIOS       1839\n",
       "15                        ORELLANA       1576\n",
       "16                       GALAPAGOS       1375\n",
       "17                ZAMORA CHINCHIPE       1352\n",
       "18                 MORONA SANTIAGO       1139\n",
       "19                           CAÑAR       1106\n",
       "20                            NAPO        754\n",
       "21                         PASTAZA        754\n",
       "22                          CARCHI        645\n",
       "23                         BOLIVAR        508"
      ]
     },
     "execution_count": 12,
     "metadata": {},
     "output_type": "execute_result"
    }
   ],
   "source": [
    "pd.DataFrame(pd_dataset['PROVINCIA'].value_counts().reset_index(name='Nro TOTAL'))"
   ]
  },
  {
   "cell_type": "markdown",
   "metadata": {},
   "source": [
    "Presentó Balance Inicial"
   ]
  },
  {
   "cell_type": "code",
   "execution_count": null,
   "metadata": {},
   "outputs": [
    {
     "data": {
      "text/html": [
       "<div>\n",
       "<style scoped>\n",
       "    .dataframe tbody tr th:only-of-type {\n",
       "        vertical-align: middle;\n",
       "    }\n",
       "\n",
       "    .dataframe tbody tr th {\n",
       "        vertical-align: top;\n",
       "    }\n",
       "\n",
       "    .dataframe thead th {\n",
       "        text-align: right;\n",
       "    }\n",
       "</style>\n",
       "<table border=\"1\" class=\"dataframe\">\n",
       "  <thead>\n",
       "    <tr style=\"text-align: right;\">\n",
       "      <th></th>\n",
       "      <th>PRESENTÓ BALANCE INICIAL</th>\n",
       "      <th>Nro TOTAL</th>\n",
       "    </tr>\n",
       "  </thead>\n",
       "  <tbody>\n",
       "    <tr>\n",
       "      <th>0</th>\n",
       "      <td>NO APLICA</td>\n",
       "      <td>112271</td>\n",
       "    </tr>\n",
       "    <tr>\n",
       "      <th>1</th>\n",
       "      <td>SI</td>\n",
       "      <td>79956</td>\n",
       "    </tr>\n",
       "    <tr>\n",
       "      <th>2</th>\n",
       "      <td>NO</td>\n",
       "      <td>20930</td>\n",
       "    </tr>\n",
       "  </tbody>\n",
       "</table>\n",
       "</div>"
      ],
      "text/plain": [
       "  PRESENTÓ BALANCE INICIAL  Nro TOTAL\n",
       "0                NO APLICA     112271\n",
       "1                       SI      79956\n",
       "2                       NO      20930"
      ]
     },
     "execution_count": 13,
     "metadata": {},
     "output_type": "execute_result"
    }
   ],
   "source": [
    "pd.DataFrame(pd_dataset['PRESENTÓ BALANCE INICIAL'].value_counts().reset_index(name='Nro TOTAL'))"
   ]
  },
  {
   "cell_type": "markdown",
   "metadata": {},
   "source": [
    "CIIU NIVEL 1"
   ]
  },
  {
   "cell_type": "code",
   "execution_count": 14,
   "metadata": {},
   "outputs": [
    {
     "data": {
      "text/html": [
       "<div>\n",
       "<style scoped>\n",
       "    .dataframe tbody tr th:only-of-type {\n",
       "        vertical-align: middle;\n",
       "    }\n",
       "\n",
       "    .dataframe tbody tr th {\n",
       "        vertical-align: top;\n",
       "    }\n",
       "\n",
       "    .dataframe thead th {\n",
       "        text-align: right;\n",
       "    }\n",
       "</style>\n",
       "<table border=\"1\" class=\"dataframe\">\n",
       "  <thead>\n",
       "    <tr style=\"text-align: right;\">\n",
       "      <th></th>\n",
       "      <th>CIIU NIVEL 1</th>\n",
       "      <th>Nro TOTAL</th>\n",
       "    </tr>\n",
       "  </thead>\n",
       "  <tbody>\n",
       "    <tr>\n",
       "      <th>0</th>\n",
       "      <td>G</td>\n",
       "      <td>53225</td>\n",
       "    </tr>\n",
       "    <tr>\n",
       "      <th>1</th>\n",
       "      <td>M</td>\n",
       "      <td>27168</td>\n",
       "    </tr>\n",
       "    <tr>\n",
       "      <th>2</th>\n",
       "      <td>F</td>\n",
       "      <td>20292</td>\n",
       "    </tr>\n",
       "    <tr>\n",
       "      <th>3</th>\n",
       "      <td>H</td>\n",
       "      <td>18154</td>\n",
       "    </tr>\n",
       "    <tr>\n",
       "      <th>4</th>\n",
       "      <td>N</td>\n",
       "      <td>16159</td>\n",
       "    </tr>\n",
       "    <tr>\n",
       "      <th>5</th>\n",
       "      <td>C</td>\n",
       "      <td>14330</td>\n",
       "    </tr>\n",
       "    <tr>\n",
       "      <th>6</th>\n",
       "      <td>A</td>\n",
       "      <td>12693</td>\n",
       "    </tr>\n",
       "    <tr>\n",
       "      <th>7</th>\n",
       "      <td>L</td>\n",
       "      <td>12270</td>\n",
       "    </tr>\n",
       "    <tr>\n",
       "      <th>8</th>\n",
       "      <td>J</td>\n",
       "      <td>9640</td>\n",
       "    </tr>\n",
       "    <tr>\n",
       "      <th>9</th>\n",
       "      <td>I</td>\n",
       "      <td>5876</td>\n",
       "    </tr>\n",
       "    <tr>\n",
       "      <th>10</th>\n",
       "      <td>Q</td>\n",
       "      <td>5676</td>\n",
       "    </tr>\n",
       "    <tr>\n",
       "      <th>11</th>\n",
       "      <td>P</td>\n",
       "      <td>4548</td>\n",
       "    </tr>\n",
       "    <tr>\n",
       "      <th>12</th>\n",
       "      <td>K</td>\n",
       "      <td>4183</td>\n",
       "    </tr>\n",
       "    <tr>\n",
       "      <th>13</th>\n",
       "      <td>B</td>\n",
       "      <td>2660</td>\n",
       "    </tr>\n",
       "    <tr>\n",
       "      <th>14</th>\n",
       "      <td>R</td>\n",
       "      <td>2007</td>\n",
       "    </tr>\n",
       "    <tr>\n",
       "      <th>15</th>\n",
       "      <td>S</td>\n",
       "      <td>1458</td>\n",
       "    </tr>\n",
       "    <tr>\n",
       "      <th>16</th>\n",
       "      <td>D</td>\n",
       "      <td>1387</td>\n",
       "    </tr>\n",
       "    <tr>\n",
       "      <th>17</th>\n",
       "      <td>E</td>\n",
       "      <td>1077</td>\n",
       "    </tr>\n",
       "    <tr>\n",
       "      <th>18</th>\n",
       "      <td>Z</td>\n",
       "      <td>47</td>\n",
       "    </tr>\n",
       "    <tr>\n",
       "      <th>19</th>\n",
       "      <td>O</td>\n",
       "      <td>17</td>\n",
       "    </tr>\n",
       "    <tr>\n",
       "      <th>20</th>\n",
       "      <td>T</td>\n",
       "      <td>5</td>\n",
       "    </tr>\n",
       "    <tr>\n",
       "      <th>21</th>\n",
       "      <td>U</td>\n",
       "      <td>2</td>\n",
       "    </tr>\n",
       "  </tbody>\n",
       "</table>\n",
       "</div>"
      ],
      "text/plain": [
       "   CIIU NIVEL 1  Nro TOTAL\n",
       "0             G      53225\n",
       "1             M      27168\n",
       "2             F      20292\n",
       "3             H      18154\n",
       "4             N      16159\n",
       "5             C      14330\n",
       "6             A      12693\n",
       "7             L      12270\n",
       "8             J       9640\n",
       "9             I       5876\n",
       "10            Q       5676\n",
       "11            P       4548\n",
       "12            K       4183\n",
       "13            B       2660\n",
       "14            R       2007\n",
       "15            S       1458\n",
       "16            D       1387\n",
       "17            E       1077\n",
       "18            Z         47\n",
       "19            O         17\n",
       "20            T          5\n",
       "21            U          2"
      ]
     },
     "execution_count": 14,
     "metadata": {},
     "output_type": "execute_result"
    }
   ],
   "source": [
    "pd.DataFrame(pd_dataset['CIIU NIVEL 1'].value_counts().reset_index(name='Nro TOTAL'))"
   ]
  },
  {
   "cell_type": "markdown",
   "metadata": {},
   "source": [
    "## Limpieza de datos\n",
    "\n",
    "#### Campo RUC\n",
    "+ Se descartan registros que no tengan número de RUC"
   ]
  },
  {
   "cell_type": "code",
   "execution_count": 15,
   "metadata": {},
   "outputs": [
    {
     "name": "stdout",
     "output_type": "stream",
     "text": [
      "Tamaño Antes:  (213157, 25)\n",
      "Tamaño Despues:  (207127, 25)\n"
     ]
    }
   ],
   "source": [
    "print('Tamaño Antes: ', pd_dataset.shape)\n",
    "pd_dataset = pd_dataset.dropna(subset=['RUC'])\n",
    "print('Tamaño Despues: ', pd_dataset.shape)"
   ]
  },
  {
   "cell_type": "markdown",
   "metadata": {},
   "source": [
    "+ Se identifican registros con RUC Inválido, luego se eliminan"
   ]
  },
  {
   "cell_type": "code",
   "execution_count": 16,
   "metadata": {},
   "outputs": [
    {
     "name": "stdout",
     "output_type": "stream",
     "text": [
      "Registros con RUC inválido 9\n"
     ]
    },
    {
     "data": {
      "text/plain": [
       "185643              099\n",
       "200489     099337330001\n",
       "203925     099337870001\n",
       "205422     099338153500\n",
       "206270    O195123391001\n",
       "Name: RUC, dtype: object"
      ]
     },
     "execution_count": 16,
     "metadata": {},
     "output_type": "execute_result"
    }
   ],
   "source": [
    "pd_filtro_RUCs_invalidos = pd_dataset[~pd_dataset['RUC'].str.match(r'^\\d{13}$')]\n",
    "print(f'Registros con RUC inválido {pd_filtro_RUCs_invalidos.shape[0]}')\n",
    "pd_filtro_RUCs_invalidos['RUC'].head(5)"
   ]
  },
  {
   "cell_type": "markdown",
   "metadata": {},
   "source": [
    "+ Eliminar Compañías con RUCs Invalidos"
   ]
  },
  {
   "cell_type": "code",
   "execution_count": 17,
   "metadata": {},
   "outputs": [
    {
     "name": "stdout",
     "output_type": "stream",
     "text": [
      "Tamaño Antes:  (207127, 25)\n",
      "Tamaño Despues:  (207118, 25)\n"
     ]
    }
   ],
   "source": [
    "print('Tamaño Antes: ', pd_dataset.shape)\n",
    "pd_dataset = pd_dataset[pd_dataset['RUC'].str.match(r'^\\d{13}$')]\n",
    "print('Tamaño Despues: ', pd_dataset.shape)"
   ]
  },
  {
   "cell_type": "markdown",
   "metadata": {},
   "source": [
    "#### Campo CIIU"
   ]
  },
  {
   "cell_type": "markdown",
   "metadata": {},
   "source": [
    "+ Se descartan todas las compañías que no tengana registrada una Actividad Económica CIIU Nivel 1 y 6"
   ]
  },
  {
   "cell_type": "code",
   "execution_count": 18,
   "metadata": {},
   "outputs": [
    {
     "name": "stdout",
     "output_type": "stream",
     "text": [
      "Se detecta que existen  264  Compañías sin CIIU Nivel 1\n",
      "Se detecta que existen  264  Compañías sin CIIU Nivel 6\n"
     ]
    }
   ],
   "source": [
    "print('Se detecta que existen ', pd_dataset['CIIU NIVEL 1'].isna().sum(), ' Compañías sin CIIU Nivel 1')\n",
    "print('Se detecta que existen ', pd_dataset['CIIU NIVEL 6'].isna().sum(), ' Compañías sin CIIU Nivel 6')"
   ]
  },
  {
   "cell_type": "markdown",
   "metadata": {},
   "source": [
    "+ Eliminar Compañías que no tengan CIIU Nivel 1"
   ]
  },
  {
   "cell_type": "code",
   "execution_count": 19,
   "metadata": {},
   "outputs": [
    {
     "name": "stdout",
     "output_type": "stream",
     "text": [
      "Tamaño Antes:  (207118, 25)\n",
      "Tamaño Despues:  (206854, 25)\n"
     ]
    }
   ],
   "source": [
    "print('Tamaño Antes: ', pd_dataset.shape)\n",
    "pd_dataset = pd_dataset.dropna(subset=['CIIU NIVEL 1'])\n",
    "print('Tamaño Despues: ', pd_dataset.shape)"
   ]
  },
  {
   "cell_type": "markdown",
   "metadata": {},
   "source": [
    "+ A la par se eliminan las compañías que no tenían CIIU Nivel 6 "
   ]
  },
  {
   "cell_type": "code",
   "execution_count": 20,
   "metadata": {},
   "outputs": [
    {
     "name": "stdout",
     "output_type": "stream",
     "text": [
      "Se detecta que existen 0 Compañías sin CIIU Nivel 6\n"
     ]
    }
   ],
   "source": [
    "print(f'Se detecta que existen {pd_dataset['CIIU NIVEL 6'].isna().sum()} Compañías sin CIIU Nivel 6')"
   ]
  },
  {
   "cell_type": "markdown",
   "metadata": {},
   "source": [
    "+ Se valida el formato de codigos CIIU Nivel 6, que debe ser del siguiente modo:\n",
    "\n",
    "    - 1 Letra, 4 numeros, 1 punto y 2 numeros\n",
    "    - En total 8 caracteres"
   ]
  },
  {
   "cell_type": "code",
   "execution_count": 21,
   "metadata": {},
   "outputs": [
    {
     "name": "stdout",
     "output_type": "stream",
     "text": [
      "Longitud de la cadena más larga: 8\n",
      "Longitud de la cadena más corta: 8\n",
      "Compañias que no respetan el formato: 38\n"
     ]
    },
    {
     "data": {
      "text/plain": [
       "SITUACIÓN LEGAL\n",
       "DISOLUCIÓN Y LIQUIDACIÓN OFICIO INSCRITA EN RM       24\n",
       "DISOLUCIÓN Y LIQUIDACIÓN OFICIO NO INSCRITA EN RM    10\n",
       "INACTIVA                                              3\n",
       "DISOLUCIÓN Y LIQUIDACIÓN ANTICIPADA INSCRITA RM       1\n",
       "Name: count, dtype: int64"
      ]
     },
     "execution_count": 21,
     "metadata": {},
     "output_type": "execute_result"
    }
   ],
   "source": [
    "lengths = pd_dataset['CIIU NIVEL 6'].str.len()\n",
    "max_length = lengths.max()\n",
    "min_length = lengths.min()\n",
    "\n",
    "print(f\"Longitud de la cadena más larga: {max_length}\")\n",
    "print(f\"Longitud de la cadena más corta: {min_length}\")\n",
    "\n",
    "\n",
    "invalid_values = pd_dataset[~pd_dataset['CIIU NIVEL 6'].str.match(r'^[A-Z]\\d{4}\\.\\d{2}$')]\n",
    "print(f\"Compañias que no respetan el formato: {invalid_values.shape[0]}\")\n",
    "invalid_values['CIIU NIVEL 6'].value_counts()\n",
    "# Se observa que todas las compañías que no cumplen con el formato se encuentran inactivas o en proceso de disolución, estas se retirarán más adelante\n",
    "invalid_values['SITUACIÓN LEGAL'].value_counts()"
   ]
  },
  {
   "cell_type": "markdown",
   "metadata": {},
   "source": [
    "Nota: Se observa que todas las compañías que no cumplen con el formato se encuentran inactivas o en proceso de disolución, estas se retirarán más adelante"
   ]
  },
  {
   "cell_type": "markdown",
   "metadata": {},
   "source": [
    "+ Se eliminan tildes en las columnas CANTON Y PROVINCIA y se mantienen las letras Ñ\n",
    "\n",
    "Se realiza este ajuste para más adelante enriquecer el dataset con coordenadas (Latitud y Longitud)"
   ]
  },
  {
   "cell_type": "code",
   "execution_count": 22,
   "metadata": {},
   "outputs": [
    {
     "name": "stdout",
     "output_type": "stream",
     "text": [
      "Registros que contienen tildes en CANTON: (9688, 25)\n"
     ]
    }
   ],
   "source": [
    "filtro_tildes = pd_dataset['CANTÓN'].str.contains(r'[ÁÉÍÓÚ]', na=False)\n",
    "print(f'Registros que contienen tildes en CANTON: {pd_dataset[filtro_tildes].shape}')"
   ]
  },
  {
   "cell_type": "code",
   "execution_count": 23,
   "metadata": {},
   "outputs": [],
   "source": [
    "reemplazos = {\n",
    "    'Á': 'A',\n",
    "    'É': 'E',\n",
    "    'Í': 'I',\n",
    "    'Ó': 'O',\n",
    "    'Ú': 'U'\n",
    "}\n",
    "\n",
    "# Reemplazar los caracteres en las columnas 'PROVINCIA' y 'CANTÓN'\n",
    "pd_dataset['PROVINCIA'] = pd_dataset['PROVINCIA'].replace(reemplazos, regex=True)\n",
    "pd_dataset['CANTÓN'] = pd_dataset['CANTÓN'].replace(reemplazos, regex=True)"
   ]
  },
  {
   "cell_type": "markdown",
   "metadata": {},
   "source": [
    "+ Cambios de nombre exactos para posterior visualización en mapas"
   ]
  },
  {
   "cell_type": "code",
   "execution_count": 24,
   "metadata": {},
   "outputs": [],
   "source": [
    "pd_dataset['CANTÓN'] = pd_dataset['CANTÓN'].replace('RUMINAHUI', 'RUMIÑAHUI')\n",
    "pd_dataset['CANTÓN'] = pd_dataset['CANTÓN'].replace('PABLO VI', 'PABLO SEXTO')\n",
    "\n",
    "pd_dataset.loc[pd_dataset['PROVINCIA'] == 'CARCHI', 'CANTÓN'] = pd_dataset.loc[pd_dataset['PROVINCIA'] == 'CARCHI', 'CANTÓN'].replace('BOLIVAR', 'BOLIVAR (CARCHI)')\n",
    "pd_dataset.loc[pd_dataset['PROVINCIA'] == 'MANABI', 'CANTÓN'] = pd_dataset.loc[pd_dataset['PROVINCIA'] == 'MANABI', 'CANTÓN'].replace('BOLIVAR', 'BOLIVAR (MANABI)')\n",
    "\n",
    "pd_dataset.loc[pd_dataset['PROVINCIA'] == 'LOJA', 'CANTÓN'] = pd_dataset.loc[pd_dataset['PROVINCIA'] == 'LOJA', 'CANTÓN'].replace('OLMEDO', 'OLMEDO (LOJA)')\n",
    "pd_dataset.loc[pd_dataset['PROVINCIA'] == 'MANABI', 'CANTÓN'] = pd_dataset.loc[pd_dataset['PROVINCIA'] == 'MANABI', 'CANTÓN'].replace('OLMEDO', 'OLMEDO (MANABI)')"
   ]
  },
  {
   "cell_type": "markdown",
   "metadata": {},
   "source": [
    "## EDA antes de Filtros **(Se traslada al paso 3)**"
   ]
  },
  {
   "cell_type": "code",
   "execution_count": 25,
   "metadata": {},
   "outputs": [],
   "source": [
    "# # Agrupar por \"TIPO\" de compañía\n",
    "# tipo_activity_counts = pd_dataset.groupby(['TIPO']).size().reset_index(name='Num_Compañías')\n",
    "\n",
    "# # Ordenar de Mayor a menor\n",
    "# tipo_activity_counts = tipo_activity_counts.sort_values(by='Num_Compañías', ascending=False)\n",
    "\n",
    "# # Agrupar a partir del quinto elemento como \"Otras\"\n",
    "# if len(tipo_activity_counts) > 4:\n",
    "#     top_4 = tipo_activity_counts.head(4)\n",
    "#     otras = tipo_activity_counts.iloc[4:].sum(numeric_only=True)\n",
    "#     otras_row = pd.DataFrame([['Otras', otras['Num_Compañías']]], columns=['TIPO', 'Num_Compañías'])\n",
    "#     tipo_activity_counts = pd.concat([top_4, otras_row], ignore_index=True)\n",
    "\n",
    "# # Calcular porcentaje respecto al total\n",
    "# tipo_activity_counts['Porcentaje'] = (tipo_activity_counts['Num_Compañías'] / tipo_activity_counts['Num_Compañías'].sum()) * 100\n",
    "\n",
    "# # Crear la figura con dos subgráficas\n",
    "# fig, axes = plt.subplots(nrows=1, ncols=2, figsize=(14, 5))\n",
    "\n",
    "# # Gráfica de la izquierda: Porcentaje respecto al total\n",
    "# sns.barplot(x='Porcentaje', y='TIPO', data=tipo_activity_counts, ax=axes[0], palette=\"Blues_r\")\n",
    "# axes[0].set_title('Tipos de compañías en Ecuador', fontsize=14)\n",
    "# axes[0].set_xlabel('', fontsize=10)\n",
    "# axes[0].set_ylabel('', fontsize=10)\n",
    "\n",
    "# # Mostrar el número y porcentaje al final de cada barra en la gráfica de la izquierda\n",
    "# for p, num, perc in zip(axes[0].patches, tipo_activity_counts['Num_Compañías'], tipo_activity_counts['Porcentaje']):\n",
    "#     width = p.get_width()\n",
    "#     axes[0].text(width + 0.5, p.get_y() + p.get_height() / 2,\n",
    "#                  f'{num} ({perc:.1f}%)', va='center', fontsize=12, color='black')\n",
    "\n",
    "# # Configuración estética para la gráfica de la izquierda\n",
    "# axes[0].tick_params(left=False, bottom=False)\n",
    "# axes[0].spines['top'].set_visible(False)\n",
    "# axes[0].spines['right'].set_visible(False)\n",
    "# axes[0].spines['left'].set_visible(False)\n",
    "# axes[0].spines['bottom'].set_visible(False)\n",
    "\n",
    "\n",
    "# # Ajustar el diseño\n",
    "# plt.tight_layout()\n",
    "# plt.show()\n"
   ]
  },
  {
   "cell_type": "markdown",
   "metadata": {},
   "source": [
    "## Aplicación de Filtros"
   ]
  },
  {
   "cell_type": "markdown",
   "metadata": {},
   "source": [
    "Se filtra por: \n",
    "+ Empresas que se encuentren **ACTIVAS**\n",
    "+ Empresas de tipo: **\"Anónima\", \"Sociedad por acciones simplificadas (SAS)\" y \"Responsabilidad Limitada\"**"
   ]
  },
  {
   "cell_type": "code",
   "execution_count": 26,
   "metadata": {},
   "outputs": [
    {
     "name": "stdout",
     "output_type": "stream",
     "text": [
      "Dataset dimensión Original (206854, 25)\n",
      "Dataset solo empresas Activas (165869, 25)\n",
      "Dataset Tipos Seleccionados (164888, 25)\n"
     ]
    }
   ],
   "source": [
    "print('Dataset dimensión Original', pd_dataset.shape)\n",
    "pd_filtered_dataset = pd_dataset[pd_dataset['SITUACIÓN LEGAL']=='ACTIVA']\n",
    "print('Dataset solo empresas Activas', pd_filtered_dataset.shape)\n",
    "pd_filtered_dataset = pd_filtered_dataset[pd_filtered_dataset['TIPO'].isin(['ANÓNIMA', 'SOCIEDAD POR ACCIONES SIMPLIFICADA', 'RESPONSABILIDAD LIMITADA'])]\n",
    "print('Dataset Tipos Seleccionados', pd_filtered_dataset.shape)"
   ]
  },
  {
   "cell_type": "markdown",
   "metadata": {},
   "source": [
    "+ Dado que el dataset se enriquecerá posteriormente con \"Información Financiera\", \n",
    "+ Se evalúan las empresas que hayan presentado información financiera al menos hace un año (2022)."
   ]
  },
  {
   "cell_type": "code",
   "execution_count": 27,
   "metadata": {},
   "outputs": [
    {
     "data": {
      "text/html": [
       "<div>\n",
       "<style scoped>\n",
       "    .dataframe tbody tr th:only-of-type {\n",
       "        vertical-align: middle;\n",
       "    }\n",
       "\n",
       "    .dataframe tbody tr th {\n",
       "        vertical-align: top;\n",
       "    }\n",
       "\n",
       "    .dataframe thead th {\n",
       "        text-align: right;\n",
       "    }\n",
       "</style>\n",
       "<table border=\"1\" class=\"dataframe\">\n",
       "  <thead>\n",
       "    <tr style=\"text-align: right;\">\n",
       "      <th></th>\n",
       "      <th>ÚLTIMO BALANCE</th>\n",
       "      <th>Nro TOTAL</th>\n",
       "    </tr>\n",
       "  </thead>\n",
       "  <tbody>\n",
       "    <tr>\n",
       "      <th>0</th>\n",
       "      <td>2023.0</td>\n",
       "      <td>121262</td>\n",
       "    </tr>\n",
       "    <tr>\n",
       "      <th>1</th>\n",
       "      <td>2022.0</td>\n",
       "      <td>5986</td>\n",
       "    </tr>\n",
       "    <tr>\n",
       "      <th>2</th>\n",
       "      <td>2021.0</td>\n",
       "      <td>2735</td>\n",
       "    </tr>\n",
       "    <tr>\n",
       "      <th>3</th>\n",
       "      <td>2020.0</td>\n",
       "      <td>1988</td>\n",
       "    </tr>\n",
       "    <tr>\n",
       "      <th>4</th>\n",
       "      <td>2018.0</td>\n",
       "      <td>1805</td>\n",
       "    </tr>\n",
       "    <tr>\n",
       "      <th>5</th>\n",
       "      <td>2019.0</td>\n",
       "      <td>1559</td>\n",
       "    </tr>\n",
       "    <tr>\n",
       "      <th>6</th>\n",
       "      <td>2017.0</td>\n",
       "      <td>1428</td>\n",
       "    </tr>\n",
       "    <tr>\n",
       "      <th>7</th>\n",
       "      <td>2016.0</td>\n",
       "      <td>24</td>\n",
       "    </tr>\n",
       "    <tr>\n",
       "      <th>8</th>\n",
       "      <td>1998.0</td>\n",
       "      <td>6</td>\n",
       "    </tr>\n",
       "    <tr>\n",
       "      <th>9</th>\n",
       "      <td>2011.0</td>\n",
       "      <td>4</td>\n",
       "    </tr>\n",
       "    <tr>\n",
       "      <th>10</th>\n",
       "      <td>2007.0</td>\n",
       "      <td>4</td>\n",
       "    </tr>\n",
       "    <tr>\n",
       "      <th>11</th>\n",
       "      <td>2004.0</td>\n",
       "      <td>3</td>\n",
       "    </tr>\n",
       "    <tr>\n",
       "      <th>12</th>\n",
       "      <td>2001.0</td>\n",
       "      <td>3</td>\n",
       "    </tr>\n",
       "    <tr>\n",
       "      <th>13</th>\n",
       "      <td>2002.0</td>\n",
       "      <td>3</td>\n",
       "    </tr>\n",
       "    <tr>\n",
       "      <th>14</th>\n",
       "      <td>1997.0</td>\n",
       "      <td>3</td>\n",
       "    </tr>\n",
       "    <tr>\n",
       "      <th>15</th>\n",
       "      <td>2014.0</td>\n",
       "      <td>3</td>\n",
       "    </tr>\n",
       "    <tr>\n",
       "      <th>16</th>\n",
       "      <td>2013.0</td>\n",
       "      <td>3</td>\n",
       "    </tr>\n",
       "    <tr>\n",
       "      <th>17</th>\n",
       "      <td>2003.0</td>\n",
       "      <td>2</td>\n",
       "    </tr>\n",
       "    <tr>\n",
       "      <th>18</th>\n",
       "      <td>2009.0</td>\n",
       "      <td>2</td>\n",
       "    </tr>\n",
       "    <tr>\n",
       "      <th>19</th>\n",
       "      <td>2012.0</td>\n",
       "      <td>2</td>\n",
       "    </tr>\n",
       "    <tr>\n",
       "      <th>20</th>\n",
       "      <td>2015.0</td>\n",
       "      <td>2</td>\n",
       "    </tr>\n",
       "    <tr>\n",
       "      <th>21</th>\n",
       "      <td>1996.0</td>\n",
       "      <td>1</td>\n",
       "    </tr>\n",
       "    <tr>\n",
       "      <th>22</th>\n",
       "      <td>2000.0</td>\n",
       "      <td>1</td>\n",
       "    </tr>\n",
       "    <tr>\n",
       "      <th>23</th>\n",
       "      <td>2006.0</td>\n",
       "      <td>1</td>\n",
       "    </tr>\n",
       "  </tbody>\n",
       "</table>\n",
       "</div>"
      ],
      "text/plain": [
       "    ÚLTIMO BALANCE  Nro TOTAL\n",
       "0           2023.0     121262\n",
       "1           2022.0       5986\n",
       "2           2021.0       2735\n",
       "3           2020.0       1988\n",
       "4           2018.0       1805\n",
       "5           2019.0       1559\n",
       "6           2017.0       1428\n",
       "7           2016.0         24\n",
       "8           1998.0          6\n",
       "9           2011.0          4\n",
       "10          2007.0          4\n",
       "11          2004.0          3\n",
       "12          2001.0          3\n",
       "13          2002.0          3\n",
       "14          1997.0          3\n",
       "15          2014.0          3\n",
       "16          2013.0          3\n",
       "17          2003.0          2\n",
       "18          2009.0          2\n",
       "19          2012.0          2\n",
       "20          2015.0          2\n",
       "21          1996.0          1\n",
       "22          2000.0          1\n",
       "23          2006.0          1"
      ]
     },
     "execution_count": 27,
     "metadata": {},
     "output_type": "execute_result"
    }
   ],
   "source": [
    "pd.DataFrame(pd_filtered_dataset['ÚLTIMO BALANCE'].value_counts().reset_index(name='Nro TOTAL'))"
   ]
  },
  {
   "cell_type": "code",
   "execution_count": 28,
   "metadata": {},
   "outputs": [
    {
     "name": "stdout",
     "output_type": "stream",
     "text": [
      "Dataset Shape Antes:  (164888, 25)\n",
      "Dataset Shape Despues:  (127248, 25)\n"
     ]
    }
   ],
   "source": [
    "print('Dataset Shape Antes: ', pd_filtered_dataset.shape)\n",
    "pd_filtered_dataset = pd_filtered_dataset[pd_filtered_dataset['ÚLTIMO BALANCE']>=2022]\n",
    "print('Dataset Shape Despues: ', pd_filtered_dataset.shape)"
   ]
  },
  {
   "cell_type": "markdown",
   "metadata": {},
   "source": [
    "#### Filtrado a nivel de Columnas\n",
    "+ Se **eliminan** las columnas que no aportan valor "
   ]
  },
  {
   "cell_type": "code",
   "execution_count": 29,
   "metadata": {},
   "outputs": [
    {
     "name": "stdout",
     "output_type": "stream",
     "text": [
      "Columnas Originales: Index(['No. FILA', 'EXPEDIENTE', 'RUC', 'NOMBRE', 'SITUACIÓN LEGAL',\n",
      "       'FECHA_CONSTITUCION', 'TIPO', 'PAÍS', 'REGIÓN', 'PROVINCIA', 'CANTÓN',\n",
      "       'CIUDAD', 'CALLE', 'NÚMERO', 'INTERSECCIÓN', 'BARRIO', 'TELÉFONO',\n",
      "       'REPRESENTANTE', 'CARGO', 'CAPITAL SUSCRITO', 'CIIU NIVEL 1',\n",
      "       'CIIU NIVEL 6', 'ÚLTIMO BALANCE', 'PRESENTÓ BALANCE INICIAL',\n",
      "       'FECHA PRESENTACIÓN BALANCE INICIAL'],\n",
      "      dtype='object')\n"
     ]
    }
   ],
   "source": [
    "print(f'Columnas Originales: {pd_filtered_dataset.columns}') "
   ]
  },
  {
   "cell_type": "markdown",
   "metadata": {},
   "source": [
    "**IMPORTANTE**: En esta parte se eliminan \"Identificadores\" (NOMBRE) y \"PseudoIdentificadores\" (DIRECCION, TELEFONO, etc.) existentes en el dataset. También se elimina el dato personal \"REPRESENTANTE\" identificado."
   ]
  },
  {
   "cell_type": "code",
   "execution_count": 30,
   "metadata": {},
   "outputs": [
    {
     "name": "stdout",
     "output_type": "stream",
     "text": [
      "Columnas restantes: Index(['EXPEDIENTE', 'RUC', 'SITUACIÓN LEGAL', 'FECHA_CONSTITUCION', 'TIPO',\n",
      "       'PAÍS', 'REGIÓN', 'PROVINCIA', 'CANTÓN', 'CIUDAD', 'CIIU NIVEL 1',\n",
      "       'CIIU NIVEL 6'],\n",
      "      dtype='object')\n"
     ]
    }
   ],
   "source": [
    "pd_filtered_dataset.drop(columns=['No. FILA', 'CALLE', 'NÚMERO', 'NOMBRE', 'INTERSECCIÓN', 'BARRIO', 'TELÉFONO',\n",
    "       'REPRESENTANTE', 'CARGO', 'PRESENTÓ BALANCE INICIAL', 'FECHA PRESENTACIÓN BALANCE INICIAL', 'CAPITAL SUSCRITO', 'ÚLTIMO BALANCE'], inplace=True)\n",
    "print(f'Columnas restantes: {pd_filtered_dataset.columns}')"
   ]
  },
  {
   "cell_type": "markdown",
   "metadata": {},
   "source": [
    "+ Se **renombran** algunas columnas"
   ]
  },
  {
   "cell_type": "code",
   "execution_count": 31,
   "metadata": {},
   "outputs": [],
   "source": [
    "pd_filtered_dataset = pd_filtered_dataset.rename(columns={\n",
    "    'SITUACIÓN LEGAL':'SITUACION_LEGAL',\n",
    "    'PAÍS':'PAIS',\n",
    "    'REGIÓN':'REGION', \n",
    "    'CANTÓN': 'CANTON',\n",
    "    'CIIU NIVEL 1': 'CIIU_NIVEL_1', \n",
    "    'CIIU NIVEL 6': 'CIIU_NIVEL_6'\n",
    "})"
   ]
  },
  {
   "cell_type": "code",
   "execution_count": 32,
   "metadata": {},
   "outputs": [
    {
     "data": {
      "text/plain": [
       "EXPEDIENTE            0\n",
       "RUC                   0\n",
       "SITUACION_LEGAL       0\n",
       "FECHA_CONSTITUCION    0\n",
       "TIPO                  0\n",
       "PAIS                  0\n",
       "REGION                0\n",
       "PROVINCIA             0\n",
       "CANTON                0\n",
       "CIUDAD                0\n",
       "CIIU_NIVEL_1          0\n",
       "CIIU_NIVEL_6          0\n",
       "dtype: int64"
      ]
     },
     "execution_count": 32,
     "metadata": {},
     "output_type": "execute_result"
    }
   ],
   "source": [
    "pd_filtered_dataset.isna().sum()"
   ]
  },
  {
   "cell_type": "markdown",
   "metadata": {},
   "source": [
    "## Generación Nuevas columnas"
   ]
  },
  {
   "cell_type": "markdown",
   "metadata": {},
   "source": [
    "### CIIU Sectores y Actividades Económicas"
   ]
  },
  {
   "cell_type": "markdown",
   "metadata": {},
   "source": [
    "+ Se creará la columnas CIIU_NIVEL_3 y CIIU_NIVEL_4 que corresponde a la \"Clase\" pues representa un nivel de detalle intermedio ni tan general ni tan específico:\n",
    "\n",
    "| Nivel   | Nomenclatura | Dato             | Ejemplo   |\n",
    "|---------|--------------|------------------|-----------|\n",
    "| Nivel 1 | SECCION      | Alfanumérico     | C         |\n",
    "| Nivel 2 | DIVISION     | 2 dígitos        | C10       |\n",
    "| Nivel 3 | GRUPO        | 3 dígitos        | C106      |\n",
    "| **Nivel 4** | **CLASE** | **4 dígitos**   | **C1061** |\n",
    "| Nivel 5 | SUBCLASE     | 5 dígitos        | C1061.1   |\n",
    "| Nivel 6 | ACTIVIDAD    | 6 dígitos        | C1061.11  |"
   ]
  },
  {
   "cell_type": "markdown",
   "metadata": {},
   "source": [
    "+ Las columnas se crean a partir del CIIU_NIVEL_6 que tiene toda esta información"
   ]
  },
  {
   "cell_type": "code",
   "execution_count": 33,
   "metadata": {},
   "outputs": [],
   "source": [
    "pd_filtered_dataset['CIIU_NIVEL_3'] = pd_filtered_dataset['CIIU_NIVEL_6'].str[:4]"
   ]
  },
  {
   "cell_type": "code",
   "execution_count": 34,
   "metadata": {},
   "outputs": [],
   "source": [
    "pd_filtered_dataset['CIIU_NIVEL_4'] = pd_filtered_dataset['CIIU_NIVEL_6'].str[:5]"
   ]
  },
  {
   "cell_type": "code",
   "execution_count": 35,
   "metadata": {},
   "outputs": [
    {
     "data": {
      "text/plain": [
       "89147     P8549\n",
       "175348    G4772\n",
       "131290    J6110\n",
       "Name: CIIU_NIVEL_4, dtype: object"
      ]
     },
     "execution_count": 35,
     "metadata": {},
     "output_type": "execute_result"
    }
   ],
   "source": [
    "pd_filtered_dataset['CIIU_NIVEL_4'].sample(3)"
   ]
  },
  {
   "cell_type": "markdown",
   "metadata": {},
   "source": [
    "Se PROCESA el dataset **bi_ciiu.csv** que fue extraido de la superintendencia de compañias\n",
    "+ Se elimina la tabulación de relleno al final del codigo CIIU\n",
    "+ Se elimina el punto '.' al final de cada Descripción"
   ]
  },
  {
   "cell_type": "code",
   "execution_count": 36,
   "metadata": {},
   "outputs": [],
   "source": [
    "pd_dataset_ciiu['ciiu'] =  pd_dataset_ciiu['ciiu'].str.strip()\n",
    "pd_dataset_ciiu['descripcion'] = pd_dataset_ciiu['descripcion'].str.rstrip('.')"
   ]
  },
  {
   "cell_type": "markdown",
   "metadata": {},
   "source": [
    "+ Se combina el dataset Principal con el dataset CIIU a nivel de **CIIU_NIVEL_1** para obtener la \"Descripción\", luego se renombra."
   ]
  },
  {
   "cell_type": "code",
   "execution_count": 37,
   "metadata": {},
   "outputs": [],
   "source": [
    "pd_merged = pd_filtered_dataset.merge(pd_dataset_ciiu, left_on='CIIU_NIVEL_1', right_on='ciiu', how='left' )"
   ]
  },
  {
   "cell_type": "code",
   "execution_count": 38,
   "metadata": {},
   "outputs": [],
   "source": [
    "pd_merged = pd_merged.drop(columns=['ciiu'])\n",
    "pd_merged = pd_merged.rename(columns={'descripcion': 'CIIU_NIVEL_1_DESC'})"
   ]
  },
  {
   "cell_type": "markdown",
   "metadata": {},
   "source": [
    "+ Se combina el dataset Principal con el dataset CIIU a nivel de **CIIU_NIVEL_3** para obtener la \"Descripción\", luego se renombra."
   ]
  },
  {
   "cell_type": "code",
   "execution_count": 39,
   "metadata": {},
   "outputs": [],
   "source": [
    "pd_merged = pd_merged.merge(pd_dataset_ciiu, left_on='CIIU_NIVEL_3', right_on='ciiu', how='left' )"
   ]
  },
  {
   "cell_type": "code",
   "execution_count": 40,
   "metadata": {},
   "outputs": [],
   "source": [
    "pd_merged = pd_merged.drop(columns=['ciiu'])\n",
    "pd_merged = pd_merged.rename(columns={'descripcion': 'CIIU_NIVEL_3_DESC'})"
   ]
  },
  {
   "cell_type": "markdown",
   "metadata": {},
   "source": [
    "+ Se combina el dataset Principal con el dataset CIIU a nivel de **CIIU_NIVEL_4** para obtener la \"Descripción\", luego se renombra."
   ]
  },
  {
   "cell_type": "code",
   "execution_count": 41,
   "metadata": {},
   "outputs": [],
   "source": [
    "pd_merged = pd_merged.merge(pd_dataset_ciiu, left_on='CIIU_NIVEL_4', right_on='ciiu', how='left' )"
   ]
  },
  {
   "cell_type": "code",
   "execution_count": 42,
   "metadata": {},
   "outputs": [],
   "source": [
    "pd_merged = pd_merged.drop(columns=['ciiu'])\n",
    "pd_merged = pd_merged.rename(columns={'descripcion': 'CIIU_NIVEL_4_DESC'})"
   ]
  },
  {
   "cell_type": "markdown",
   "metadata": {},
   "source": [
    "+ Se combina el dataset Principal con el dataset CIIU a nivel de **CIIU_NIVEL_6** para obtener la \"Descripción\", luego se renombra."
   ]
  },
  {
   "cell_type": "code",
   "execution_count": 43,
   "metadata": {},
   "outputs": [],
   "source": [
    "pd_merged = pd_merged.merge(pd_dataset_ciiu, left_on='CIIU_NIVEL_6', right_on='ciiu', how='left' )"
   ]
  },
  {
   "cell_type": "code",
   "execution_count": 44,
   "metadata": {},
   "outputs": [],
   "source": [
    "pd_merged = pd_merged.drop(columns=['ciiu'])\n",
    "pd_merged = pd_merged.rename(columns={'descripcion': 'CIIU_NIVEL_6_DESC'})"
   ]
  },
  {
   "cell_type": "code",
   "execution_count": 45,
   "metadata": {},
   "outputs": [
    {
     "data": {
      "text/html": [
       "<div>\n",
       "<style scoped>\n",
       "    .dataframe tbody tr th:only-of-type {\n",
       "        vertical-align: middle;\n",
       "    }\n",
       "\n",
       "    .dataframe tbody tr th {\n",
       "        vertical-align: top;\n",
       "    }\n",
       "\n",
       "    .dataframe thead th {\n",
       "        text-align: right;\n",
       "    }\n",
       "</style>\n",
       "<table border=\"1\" class=\"dataframe\">\n",
       "  <thead>\n",
       "    <tr style=\"text-align: right;\">\n",
       "      <th></th>\n",
       "      <th>EXPEDIENTE</th>\n",
       "      <th>RUC</th>\n",
       "      <th>SITUACION_LEGAL</th>\n",
       "      <th>FECHA_CONSTITUCION</th>\n",
       "      <th>TIPO</th>\n",
       "      <th>PAIS</th>\n",
       "      <th>REGION</th>\n",
       "      <th>PROVINCIA</th>\n",
       "      <th>CANTON</th>\n",
       "      <th>CIUDAD</th>\n",
       "      <th>CIIU_NIVEL_1</th>\n",
       "      <th>CIIU_NIVEL_6</th>\n",
       "      <th>CIIU_NIVEL_3</th>\n",
       "      <th>CIIU_NIVEL_4</th>\n",
       "      <th>CIIU_NIVEL_1_DESC</th>\n",
       "      <th>CIIU_NIVEL_3_DESC</th>\n",
       "      <th>CIIU_NIVEL_4_DESC</th>\n",
       "      <th>CIIU_NIVEL_6_DESC</th>\n",
       "    </tr>\n",
       "  </thead>\n",
       "  <tbody>\n",
       "    <tr>\n",
       "      <th>33894</th>\n",
       "      <td>155210</td>\n",
       "      <td>1792023815001</td>\n",
       "      <td>ACTIVA</td>\n",
       "      <td>21/02/2006</td>\n",
       "      <td>ANÓNIMA</td>\n",
       "      <td>ECUADOR</td>\n",
       "      <td>SIERRA</td>\n",
       "      <td>PICHINCHA</td>\n",
       "      <td>QUITO</td>\n",
       "      <td>QUITO</td>\n",
       "      <td>G</td>\n",
       "      <td>G4649.94</td>\n",
       "      <td>G464</td>\n",
       "      <td>G4649</td>\n",
       "      <td>COMERCIO AL POR MAYOR Y AL POR MENOR REPARACIÓ...</td>\n",
       "      <td>VENTA AL POR MAYOR DE ENSERES DOMÉSTICOS</td>\n",
       "      <td>VENTA AL POR MAYOR DE OTROS ENSERES DOMÉSTICOS</td>\n",
       "      <td>VENTA AL POR MAYOR DE ARTÍCULOS DE CUERO Y ACC...</td>\n",
       "    </tr>\n",
       "    <tr>\n",
       "      <th>3531</th>\n",
       "      <td>28270</td>\n",
       "      <td>0991104658001</td>\n",
       "      <td>ACTIVA</td>\n",
       "      <td>27/12/1990</td>\n",
       "      <td>RESPONSABILIDAD LIMITADA</td>\n",
       "      <td>ECUADOR</td>\n",
       "      <td>COSTA</td>\n",
       "      <td>GUAYAS</td>\n",
       "      <td>GUAYAQUIL</td>\n",
       "      <td>GUAYAQUIL</td>\n",
       "      <td>G</td>\n",
       "      <td>G4662.02</td>\n",
       "      <td>G466</td>\n",
       "      <td>G4662</td>\n",
       "      <td>COMERCIO AL POR MAYOR Y AL POR MENOR REPARACIÓ...</td>\n",
       "      <td>OTRAS ACTIVIDADES DE VENTA AL POR MAYOR ESPECI...</td>\n",
       "      <td>VENTA AL POR MAYOR DE METALES Y MINERALES META...</td>\n",
       "      <td>VENTA AL POR MAYOR DE PRODUCTOS SEMIACABADOS D...</td>\n",
       "    </tr>\n",
       "    <tr>\n",
       "      <th>51265</th>\n",
       "      <td>307435</td>\n",
       "      <td>1891775179001</td>\n",
       "      <td>ACTIVA</td>\n",
       "      <td>11/07/2017</td>\n",
       "      <td>RESPONSABILIDAD LIMITADA</td>\n",
       "      <td>ECUADOR</td>\n",
       "      <td>SIERRA</td>\n",
       "      <td>TUNGURAHUA</td>\n",
       "      <td>SAN PEDRO DE PELILEO</td>\n",
       "      <td>PELILEO</td>\n",
       "      <td>G</td>\n",
       "      <td>G4641.11</td>\n",
       "      <td>G464</td>\n",
       "      <td>G4641</td>\n",
       "      <td>COMERCIO AL POR MAYOR Y AL POR MENOR REPARACIÓ...</td>\n",
       "      <td>VENTA AL POR MAYOR DE ENSERES DOMÉSTICOS</td>\n",
       "      <td>VENTA AL POR MAYOR DE TEXTILES, PRENDAS DE VES...</td>\n",
       "      <td>VENTA AL POR MAYOR DE HILOS (HILADOS), LANAS Y...</td>\n",
       "    </tr>\n",
       "  </tbody>\n",
       "</table>\n",
       "</div>"
      ],
      "text/plain": [
       "       EXPEDIENTE            RUC SITUACION_LEGAL FECHA_CONSTITUCION  \\\n",
       "33894      155210  1792023815001          ACTIVA         21/02/2006   \n",
       "3531        28270  0991104658001          ACTIVA         27/12/1990   \n",
       "51265      307435  1891775179001          ACTIVA         11/07/2017   \n",
       "\n",
       "                           TIPO     PAIS  REGION   PROVINCIA  \\\n",
       "33894                   ANÓNIMA  ECUADOR  SIERRA   PICHINCHA   \n",
       "3531   RESPONSABILIDAD LIMITADA  ECUADOR   COSTA      GUAYAS   \n",
       "51265  RESPONSABILIDAD LIMITADA  ECUADOR  SIERRA  TUNGURAHUA   \n",
       "\n",
       "                     CANTON     CIUDAD CIIU_NIVEL_1 CIIU_NIVEL_6 CIIU_NIVEL_3  \\\n",
       "33894                 QUITO      QUITO            G     G4649.94         G464   \n",
       "3531              GUAYAQUIL  GUAYAQUIL            G     G4662.02         G466   \n",
       "51265  SAN PEDRO DE PELILEO    PELILEO            G     G4641.11         G464   \n",
       "\n",
       "      CIIU_NIVEL_4                                  CIIU_NIVEL_1_DESC  \\\n",
       "33894        G4649  COMERCIO AL POR MAYOR Y AL POR MENOR REPARACIÓ...   \n",
       "3531         G4662  COMERCIO AL POR MAYOR Y AL POR MENOR REPARACIÓ...   \n",
       "51265        G4641  COMERCIO AL POR MAYOR Y AL POR MENOR REPARACIÓ...   \n",
       "\n",
       "                                       CIIU_NIVEL_3_DESC  \\\n",
       "33894           VENTA AL POR MAYOR DE ENSERES DOMÉSTICOS   \n",
       "3531   OTRAS ACTIVIDADES DE VENTA AL POR MAYOR ESPECI...   \n",
       "51265           VENTA AL POR MAYOR DE ENSERES DOMÉSTICOS   \n",
       "\n",
       "                                       CIIU_NIVEL_4_DESC  \\\n",
       "33894     VENTA AL POR MAYOR DE OTROS ENSERES DOMÉSTICOS   \n",
       "3531   VENTA AL POR MAYOR DE METALES Y MINERALES META...   \n",
       "51265  VENTA AL POR MAYOR DE TEXTILES, PRENDAS DE VES...   \n",
       "\n",
       "                                       CIIU_NIVEL_6_DESC  \n",
       "33894  VENTA AL POR MAYOR DE ARTÍCULOS DE CUERO Y ACC...  \n",
       "3531   VENTA AL POR MAYOR DE PRODUCTOS SEMIACABADOS D...  \n",
       "51265  VENTA AL POR MAYOR DE HILOS (HILADOS), LANAS Y...  "
      ]
     },
     "execution_count": 45,
     "metadata": {},
     "output_type": "execute_result"
    }
   ],
   "source": [
    "pd_filtered_dataset = pd_merged\n",
    "pd_filtered_dataset.sample(3)"
   ]
  },
  {
   "cell_type": "markdown",
   "metadata": {},
   "source": [
    "### Reordenar Columnas"
   ]
  },
  {
   "cell_type": "code",
   "execution_count": 46,
   "metadata": {},
   "outputs": [],
   "source": [
    "pd_filtered_dataset = pd_filtered_dataset[['EXPEDIENTE', 'RUC', 'SITUACION_LEGAL', 'FECHA_CONSTITUCION',\n",
    "       'TIPO', 'PAIS', 'REGION', 'PROVINCIA', 'CANTON', 'CIUDAD',\n",
    "       'CIIU_NIVEL_1', 'CIIU_NIVEL_1_DESC', 'CIIU_NIVEL_3', 'CIIU_NIVEL_3_DESC',\n",
    "       'CIIU_NIVEL_4', 'CIIU_NIVEL_4_DESC', 'CIIU_NIVEL_6', 'CIIU_NIVEL_6_DESC']]"
   ]
  },
  {
   "cell_type": "code",
   "execution_count": 47,
   "metadata": {},
   "outputs": [
    {
     "data": {
      "text/html": [
       "<div>\n",
       "<style scoped>\n",
       "    .dataframe tbody tr th:only-of-type {\n",
       "        vertical-align: middle;\n",
       "    }\n",
       "\n",
       "    .dataframe tbody tr th {\n",
       "        vertical-align: top;\n",
       "    }\n",
       "\n",
       "    .dataframe thead th {\n",
       "        text-align: right;\n",
       "    }\n",
       "</style>\n",
       "<table border=\"1\" class=\"dataframe\">\n",
       "  <thead>\n",
       "    <tr style=\"text-align: right;\">\n",
       "      <th></th>\n",
       "      <th>EXPEDIENTE</th>\n",
       "      <th>RUC</th>\n",
       "      <th>SITUACION_LEGAL</th>\n",
       "      <th>FECHA_CONSTITUCION</th>\n",
       "      <th>TIPO</th>\n",
       "      <th>PAIS</th>\n",
       "      <th>REGION</th>\n",
       "      <th>PROVINCIA</th>\n",
       "      <th>CANTON</th>\n",
       "      <th>CIUDAD</th>\n",
       "      <th>CIIU_NIVEL_1</th>\n",
       "      <th>CIIU_NIVEL_1_DESC</th>\n",
       "      <th>CIIU_NIVEL_3</th>\n",
       "      <th>CIIU_NIVEL_3_DESC</th>\n",
       "      <th>CIIU_NIVEL_4</th>\n",
       "      <th>CIIU_NIVEL_4_DESC</th>\n",
       "      <th>CIIU_NIVEL_6</th>\n",
       "      <th>CIIU_NIVEL_6_DESC</th>\n",
       "    </tr>\n",
       "  </thead>\n",
       "  <tbody>\n",
       "    <tr>\n",
       "      <th>70917</th>\n",
       "      <td>333918</td>\n",
       "      <td>0993371415001</td>\n",
       "      <td>ACTIVA</td>\n",
       "      <td>08/04/2022</td>\n",
       "      <td>RESPONSABILIDAD LIMITADA</td>\n",
       "      <td>ECUADOR</td>\n",
       "      <td>COSTA</td>\n",
       "      <td>GUAYAS</td>\n",
       "      <td>GUAYAQUIL</td>\n",
       "      <td>GUAYAQUIL</td>\n",
       "      <td>I</td>\n",
       "      <td>ACTIVIDADES DE ALOJAMIENTO Y DE SERVICIO DE CO...</td>\n",
       "      <td>I561</td>\n",
       "      <td>ACTIVIDADES DE RESTAURANTES Y DE SERVICIO MÓVI...</td>\n",
       "      <td>I5610</td>\n",
       "      <td>ACTIVIDADES DE RESTAURANTES Y DE SERVICIO MÓVI...</td>\n",
       "      <td>I5610.01</td>\n",
       "      <td>RESTAURANTES, CEVICHERÍAS, PICANTERÍAS, CAFETE...</td>\n",
       "    </tr>\n",
       "  </tbody>\n",
       "</table>\n",
       "</div>"
      ],
      "text/plain": [
       "       EXPEDIENTE            RUC SITUACION_LEGAL FECHA_CONSTITUCION  \\\n",
       "70917      333918  0993371415001          ACTIVA         08/04/2022   \n",
       "\n",
       "                           TIPO     PAIS REGION PROVINCIA     CANTON  \\\n",
       "70917  RESPONSABILIDAD LIMITADA  ECUADOR  COSTA    GUAYAS  GUAYAQUIL   \n",
       "\n",
       "          CIUDAD CIIU_NIVEL_1  \\\n",
       "70917  GUAYAQUIL            I   \n",
       "\n",
       "                                       CIIU_NIVEL_1_DESC CIIU_NIVEL_3  \\\n",
       "70917  ACTIVIDADES DE ALOJAMIENTO Y DE SERVICIO DE CO...         I561   \n",
       "\n",
       "                                       CIIU_NIVEL_3_DESC CIIU_NIVEL_4  \\\n",
       "70917  ACTIVIDADES DE RESTAURANTES Y DE SERVICIO MÓVI...        I5610   \n",
       "\n",
       "                                       CIIU_NIVEL_4_DESC CIIU_NIVEL_6  \\\n",
       "70917  ACTIVIDADES DE RESTAURANTES Y DE SERVICIO MÓVI...     I5610.01   \n",
       "\n",
       "                                       CIIU_NIVEL_6_DESC  \n",
       "70917  RESTAURANTES, CEVICHERÍAS, PICANTERÍAS, CAFETE...  "
      ]
     },
     "execution_count": 47,
     "metadata": {},
     "output_type": "execute_result"
    }
   ],
   "source": [
    "pd_filtered_dataset.sample(1)"
   ]
  },
  {
   "cell_type": "markdown",
   "metadata": {},
   "source": [
    "### Análisis Descriptivo (Gráfico)"
   ]
  },
  {
   "cell_type": "markdown",
   "metadata": {},
   "source": [
    "#### Conteo de Actividades económicas"
   ]
  },
  {
   "cell_type": "code",
   "execution_count": 48,
   "metadata": {},
   "outputs": [
    {
     "name": "stderr",
     "output_type": "stream",
     "text": [
      "C:\\Users\\fabrizio\\AppData\\Local\\Temp\\ipykernel_13764\\2358369955.py:11: FutureWarning: \n",
      "\n",
      "Passing `palette` without assigning `hue` is deprecated and will be removed in v0.14.0. Assign the `y` variable to `hue` and set `legend=False` for the same effect.\n",
      "\n",
      "  sns.barplot(x=company_counts.values, y=company_counts.index, palette=\"Blues_r\")\n"
     ]
    },
    {
     "data": {
      "image/png": "[encoded data removed]",
      "text/plain": [
       "<Figure size 800x1000 with 1 Axes>"
      ]
     },
     "metadata": {},
     "output_type": "display_data"
    }
   ],
   "source": [
    "# # Dataset para gráfico y truncar las descripciones por si sonmuy grandes\n",
    "company_counts = pd_filtered_dataset['CIIU_NIVEL_1'].astype(str) + \" - \" + pd_filtered_dataset['CIIU_NIVEL_1_DESC']\n",
    "company_counts = company_counts.apply(lambda x: x[:92] + '...' if len(x) > 92 else x)\n",
    "company_counts = company_counts.value_counts()\n",
    "company_counts\n",
    "\n",
    "# Dimensión del gráfico\n",
    "plt.figure(figsize=(8, 10))\n",
    "\n",
    "# Tipo de gráfico con barras más gruesas\n",
    "sns.barplot(x=company_counts.values, y=company_counts.index, palette=\"Blues_r\")\n",
    "\n",
    "# Detalles Visuales al gráfico\n",
    "plt.title('Compañías por Sección (CIIU Nivel 1)', fontsize=16)\n",
    "plt.xticks([])  # Elimina los ticks del eje X\n",
    "plt.yticks(fontsize=8)  # Reduce el tamaño de las etiquetas en el eje Y\n",
    "\n",
    "# Eliminar la línea del eje X\n",
    "plt.gca().spines['bottom'].set_linewidth(0)\n",
    "\n",
    "# Elimina bordes del gráfico\n",
    "sns.despine()\n",
    "\n",
    "# Mostrar el número al final de cada barra\n",
    "for p in plt.gca().patches:\n",
    "    plt.gca().text(p.get_width() + 10, p.get_y() + p.get_height() / 2, \n",
    "                   f'{int(p.get_width())}', va='center', fontsize=10, color='black')\n",
    "\n",
    "# Mostrar el gráfico\n",
    "plt.show()"
   ]
  },
  {
   "cell_type": "markdown",
   "metadata": {},
   "source": [
    "### Exportar Dataset Procesado\n",
    "Se exporta este dataset con todas las actividades ecónómicas para realizar el Location Quotient"
   ]
  },
  {
   "cell_type": "code",
   "execution_count": 49,
   "metadata": {},
   "outputs": [
    {
     "name": "stdout",
     "output_type": "stream",
     "text": [
      "Tamaño del dataset: (127248, 18)\n"
     ]
    }
   ],
   "source": [
    "print(f'Tamaño del dataset: {pd_filtered_dataset.shape}')"
   ]
  },
  {
   "cell_type": "code",
   "execution_count": 50,
   "metadata": {},
   "outputs": [],
   "source": [
    "# Se exporta este dataset con todas las actividades ecónómicas para realizar el Location Quotient\n",
    "pd_filtered_dataset.to_csv('Datasets Procesados\\\\directorio_empresas.csv', index=False)"
   ]
  },
  {
   "cell_type": "markdown",
   "metadata": {},
   "source": [
    "### Dataset Filtrado Final Para Clustering **(Se traslada al paso 3)**"
   ]
  },
  {
   "cell_type": "markdown",
   "metadata": {},
   "source": [
    "Se consideran las siguientes categorías\n",
    "+ A - AGRICULTURA, GANADERÍA, SILVICULTURA Y PESCA\n",
    "+ C - INDUSTRIAS MANUFACTURERAS\n",
    "+ I - ALOJAMIENTO Y COMIDAS\n",
    "+ J - INFORMACIÓN Y COMUNICACIÓN.\n",
    "+ K - ACTIVIDADES FINANCIERAS Y DE SEGUROS.\n",
    "+ L - ACTIVIDADES INMOBILIARIAS. (Excluida tras primera iteración pruebas)"
   ]
  },
  {
   "cell_type": "code",
   "execution_count": 51,
   "metadata": {},
   "outputs": [],
   "source": [
    "# print('Dataset Shape Antes: ', pd_filtered_dataset.shape)\n",
    "# pd_filtered_dataset = pd_filtered_dataset[pd_filtered_dataset['CIIU_NIVEL_1'].isin(['A', 'C', 'I', 'J', 'K'])]\n",
    "# print('Dataset Shape Despues: ', pd_filtered_dataset.shape)"
   ]
  },
  {
   "cell_type": "markdown",
   "metadata": {},
   "source": [
    "### Exportar Dataset Procesado"
   ]
  },
  {
   "cell_type": "code",
   "execution_count": 52,
   "metadata": {},
   "outputs": [],
   "source": [
    "# pd_filtered_dataset.to_csv('Datasets Procesados\\\\directorio_empresas.csv', index=False)"
   ]
  }
 ],
 "metadata": {
  "kernelspec": {
   "display_name": "Python 3",
   "language": "python",
   "name": "python3"
  },
  "language_info": {
   "codemirror_mode": {
    "name": "ipython",
    "version": 3
   },
   "file_extension": ".py",
   "mimetype": "text/x-python",
   "name": "python",
   "nbconvert_exporter": "python",
   "pygments_lexer": "ipython3",
   "version": "3.12.5"
  }
 },
 "nbformat": 4,
 "nbformat_minor": 2
}
