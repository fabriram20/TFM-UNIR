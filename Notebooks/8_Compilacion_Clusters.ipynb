{
 "cells": [
  {
   "cell_type": "markdown",
   "metadata": {},
   "source": [
    "# 8 - COMPILACIÓN CLUSTERS\n",
    "\n",
    "**AUTOR: Fabrizio Ramirez Cutimbo**\n",
    "\n",
    "**OBJETIVO**\n",
    "\n",
    "+ Combinar en un solo dataset los clusters generados por PCA-Kmeans y UMAP-DBSCAN\n",
    "---"
   ]
  },
  {
   "cell_type": "code",
   "execution_count": 1,
   "metadata": {},
   "outputs": [],
   "source": [
    "import pandas as pd\n",
    "import numpy as np\n",
    "import hashlib\n",
    "import json"
   ]
  },
  {
   "cell_type": "markdown",
   "metadata": {},
   "source": [
    "### Cargar Datasets"
   ]
  },
  {
   "cell_type": "code",
   "execution_count": 2,
   "metadata": {},
   "outputs": [],
   "source": [
    "## DATASET ORIGINAL COMPILADO\n",
    "pd_companias = pd.read_csv('Datasets Procesados/directorio_empresas_final.csv', dtype={'RUC': 'object'})\n",
    "\n",
    "## DATASET CON CLUSTERS\n",
    "pd_companias_kmeans = pd.read_csv('Datasets Procesados/directorio_empresas_final_PCA_KMEANS.csv', dtype={'RUC': 'object'})\n",
    "pd_companias_dbscan = pd.read_csv('Datasets Procesados/directorio_empresas_final_UMAP_DBSCAN.csv', dtype={'RUC': 'object'})"
   ]
  },
  {
   "cell_type": "code",
   "execution_count": 3,
   "metadata": {},
   "outputs": [
    {
     "data": {
      "text/plain": [
       "Index(['EXPEDIENTE', 'RUC', 'SITUACION_LEGAL', 'FECHA_CONSTITUCION', 'TIPO',\n",
       "       'PAIS', 'REGION', 'PROVINCIA', 'CANTON', 'CIUDAD', 'CIIU_NIVEL_1',\n",
       "       'CIIU_NIVEL_1_DESC', 'CIIU_NIVEL_3', 'CIIU_NIVEL_3_DESC',\n",
       "       'CIIU_NIVEL_4', 'CIIU_NIVEL_4_DESC', 'CIIU_NIVEL_6',\n",
       "       'CIIU_NIVEL_6_DESC', 'ACTIVO_2022', 'ACTIVO_CORRIENTE_2022',\n",
       "       'INVENTARIOS_2022', 'ACTIVOS_NO_CORRIENTES_2022', 'PASIVO_2022',\n",
       "       'PASIVO_CORRIENTE_2022', 'PASIVO_NO_CORRIENTE_2022',\n",
       "       'PATRIMONIO_NETO_2022', 'INGRESOS_ACTIVIDADES_ORDINARIAS_2022',\n",
       "       'GANANCIA_BRUTA_2022', 'OTROS_INGRESOS_2022',\n",
       "       'COSTO_VENTAS_PRODUCCION_2022', 'GASTOS_2022',\n",
       "       'UTILIDAD_OPERATIVA_2022', 'GANACIA_PERDIDA_ANTES_IR_2022',\n",
       "       'IMPUESTO_RENTA_2022', 'UTILIDAD_NETA_2022', 'ACTIVO_2023',\n",
       "       'ACTIVO_CORRIENTE_2023', 'INVENTARIOS_2023',\n",
       "       'ACTIVOS_NO_CORRIENTES_2023', 'PASIVO_2023', 'PASIVO_CORRIENTE_2023',\n",
       "       'PASIVO_NO_CORRIENTE_2023', 'PATRIMONIO_NETO_2023',\n",
       "       'INGRESOS_ACTIVIDADES_ORDINARIAS_2023', 'GANANCIA_BRUTA_2023',\n",
       "       'OTROS_INGRESOS_2023', 'COSTO_VENTAS_PRODUCCION_2023', 'GASTOS_2023',\n",
       "       'UTILIDAD_OPERATIVA_2023', 'GANACIA_PERDIDA_ANTES_IR_2023',\n",
       "       'IMPUESTO_RENTA_2023', 'UTILIDAD_NETA_2023', 'VAR_ACTIVO',\n",
       "       'VAR_INVENTARIOS', 'VAR_PASIVO', 'VAR_INGRESOS',\n",
       "       'VAR_COSTO_VENTAS_PRODUCCION', 'VAR_GASTOS', 'VAR_UTILIDAD_OPERATIVA',\n",
       "       'VAR_IMPUESTO_RENTA', 'VAR_UTILIDAD_NETA', 'SEGMENTO',\n",
       "       'IF_PRUEBA_ACIDA', 'IF_ENDEUDAMIENTO_ACTIVO', 'IF_APALANCAMIENTO',\n",
       "       'IF_ROTACION_VENTAS', 'IF_MARGEN_BRUTO', 'IF_MARGEN_OPERCIONAL',\n",
       "       'IF_MARGEN_NETO', 'IF_ROE', 'IF_ROA'],\n",
       "      dtype='object')"
      ]
     },
     "execution_count": 3,
     "metadata": {},
     "output_type": "execute_result"
    }
   ],
   "source": [
    "pd_companias.columns"
   ]
  },
  {
   "cell_type": "code",
   "execution_count": 4,
   "metadata": {},
   "outputs": [
    {
     "name": "stdout",
     "output_type": "stream",
     "text": [
      "(37884, 71)\n",
      "(37884, 88)\n",
      "(37884, 88)\n"
     ]
    },
    {
     "data": {
      "text/html": [
       "<div>\n",
       "<style scoped>\n",
       "    .dataframe tbody tr th:only-of-type {\n",
       "        vertical-align: middle;\n",
       "    }\n",
       "\n",
       "    .dataframe tbody tr th {\n",
       "        vertical-align: top;\n",
       "    }\n",
       "\n",
       "    .dataframe thead th {\n",
       "        text-align: right;\n",
       "    }\n",
       "</style>\n",
       "<table border=\"1\" class=\"dataframe\">\n",
       "  <thead>\n",
       "    <tr style=\"text-align: right;\">\n",
       "      <th></th>\n",
       "      <th>EXPEDIENTE</th>\n",
       "      <th>RUC</th>\n",
       "      <th>SITUACION_LEGAL</th>\n",
       "      <th>FECHA_CONSTITUCION</th>\n",
       "      <th>TIPO</th>\n",
       "      <th>PAIS</th>\n",
       "      <th>REGION</th>\n",
       "      <th>PROVINCIA</th>\n",
       "      <th>CANTON</th>\n",
       "      <th>CIUDAD</th>\n",
       "      <th>...</th>\n",
       "      <th>REGION_COSTA</th>\n",
       "      <th>REGION_GALÁPAGOS</th>\n",
       "      <th>REGION_ORIENTE</th>\n",
       "      <th>REGION_SIERRA</th>\n",
       "      <th>SEGMENTO_ENCODED</th>\n",
       "      <th>Set4_UMAP1</th>\n",
       "      <th>Set4_UMAP2</th>\n",
       "      <th>Set4_REGION_UMAP1</th>\n",
       "      <th>Set4_REGION_UMAP2</th>\n",
       "      <th>CLUSTER_DBSCAN_SET_4</th>\n",
       "    </tr>\n",
       "  </thead>\n",
       "  <tbody>\n",
       "    <tr>\n",
       "      <th>21165</th>\n",
       "      <td>329064</td>\n",
       "      <td>1793191148001</td>\n",
       "      <td>ACTIVA</td>\n",
       "      <td>23/11/2021</td>\n",
       "      <td>SOCIEDAD POR ACCIONES SIMPLIFICADA</td>\n",
       "      <td>ECUADOR</td>\n",
       "      <td>SIERRA</td>\n",
       "      <td>PICHINCHA</td>\n",
       "      <td>QUITO</td>\n",
       "      <td>QUITO</td>\n",
       "      <td>...</td>\n",
       "      <td>0.0</td>\n",
       "      <td>0.0</td>\n",
       "      <td>0.0</td>\n",
       "      <td>1.0</td>\n",
       "      <td>1</td>\n",
       "      <td>5.457798</td>\n",
       "      <td>8.841523</td>\n",
       "      <td>5.427626</td>\n",
       "      <td>12.86128</td>\n",
       "      <td>11</td>\n",
       "    </tr>\n",
       "  </tbody>\n",
       "</table>\n",
       "<p>1 rows × 88 columns</p>\n",
       "</div>"
      ],
      "text/plain": [
       "       EXPEDIENTE            RUC SITUACION_LEGAL FECHA_CONSTITUCION  \\\n",
       "21165      329064  1793191148001          ACTIVA         23/11/2021   \n",
       "\n",
       "                                     TIPO     PAIS  REGION  PROVINCIA CANTON  \\\n",
       "21165  SOCIEDAD POR ACCIONES SIMPLIFICADA  ECUADOR  SIERRA  PICHINCHA  QUITO   \n",
       "\n",
       "      CIUDAD  ... REGION_COSTA REGION_GALÁPAGOS REGION_ORIENTE REGION_SIERRA  \\\n",
       "21165  QUITO  ...          0.0              0.0            0.0           1.0   \n",
       "\n",
       "      SEGMENTO_ENCODED Set4_UMAP1 Set4_UMAP2 Set4_REGION_UMAP1  \\\n",
       "21165                1   5.457798   8.841523          5.427626   \n",
       "\n",
       "       Set4_REGION_UMAP2  CLUSTER_DBSCAN_SET_4  \n",
       "21165           12.86128                    11  \n",
       "\n",
       "[1 rows x 88 columns]"
      ]
     },
     "execution_count": 4,
     "metadata": {},
     "output_type": "execute_result"
    }
   ],
   "source": [
    "print(pd_companias.shape)\n",
    "pd_companias_kmeans.sample(1)\n",
    "\n",
    "print(pd_companias_kmeans.shape)\n",
    "pd_companias_kmeans.sample(1)\n",
    "\n",
    "print(pd_companias_dbscan.shape)\n",
    "pd_companias_dbscan.sample(1)"
   ]
  },
  {
   "cell_type": "markdown",
   "metadata": {},
   "source": [
    "Se puede ver que todos los dataset contienen los mismos registros"
   ]
  },
  {
   "cell_type": "code",
   "execution_count": 5,
   "metadata": {},
   "outputs": [
    {
     "data": {
      "text/plain": [
       "Index(['CIIU_NIVEL_1_A', 'CIIU_NIVEL_1_C', 'CIIU_NIVEL_1_I', 'CIIU_NIVEL_1_J',\n",
       "       'CIIU_NIVEL_1_K', 'CIIU_NIVEL_1_M', 'CIIU_NIVEL_1_N', 'REGION_COSTA',\n",
       "       'REGION_GALÁPAGOS', 'REGION_ORIENTE', 'REGION_SIERRA',\n",
       "       'SEGMENTO_ENCODED', 'Set10_PCA1', 'Set10_PCA2', 'Set10_REGION_PCA1',\n",
       "       'Set10_REGION_PCA2', 'CLUSTERS_KMEANS_SET_10'],\n",
       "      dtype='object')"
      ]
     },
     "execution_count": 5,
     "metadata": {},
     "output_type": "execute_result"
    }
   ],
   "source": [
    "pd_companias_kmeans.columns[pd_companias.shape[1]:]"
   ]
  },
  {
   "cell_type": "code",
   "execution_count": 6,
   "metadata": {},
   "outputs": [
    {
     "data": {
      "text/plain": [
       "Index(['CIIU_NIVEL_1_A', 'CIIU_NIVEL_1_C', 'CIIU_NIVEL_1_I', 'CIIU_NIVEL_1_J',\n",
       "       'CIIU_NIVEL_1_K', 'CIIU_NIVEL_1_M', 'CIIU_NIVEL_1_N', 'REGION_COSTA',\n",
       "       'REGION_GALÁPAGOS', 'REGION_ORIENTE', 'REGION_SIERRA',\n",
       "       'SEGMENTO_ENCODED', 'Set4_UMAP1', 'Set4_UMAP2', 'Set4_REGION_UMAP1',\n",
       "       'Set4_REGION_UMAP2', 'CLUSTER_DBSCAN_SET_4'],\n",
       "      dtype='object')"
      ]
     },
     "execution_count": 6,
     "metadata": {},
     "output_type": "execute_result"
    }
   ],
   "source": [
    "pd_companias_dbscan.columns[pd_companias.shape[1]:]"
   ]
  },
  {
   "cell_type": "markdown",
   "metadata": {},
   "source": [
    "## Combinar Datasets"
   ]
  },
  {
   "cell_type": "markdown",
   "metadata": {},
   "source": [
    "Se selecciona únicamente los componentes principales"
   ]
  },
  {
   "cell_type": "code",
   "execution_count": 7,
   "metadata": {},
   "outputs": [
    {
     "name": "stdout",
     "output_type": "stream",
     "text": [
      "(37884, 74)\n",
      "(37884, 77)\n"
     ]
    },
    {
     "data": {
      "text/plain": [
       "Index(['EXPEDIENTE', 'RUC', 'SITUACION_LEGAL', 'FECHA_CONSTITUCION', 'TIPO',\n",
       "       'PAIS', 'REGION', 'PROVINCIA', 'CANTON', 'CIUDAD', 'CIIU_NIVEL_1',\n",
       "       'CIIU_NIVEL_1_DESC', 'CIIU_NIVEL_3', 'CIIU_NIVEL_3_DESC',\n",
       "       'CIIU_NIVEL_4', 'CIIU_NIVEL_4_DESC', 'CIIU_NIVEL_6',\n",
       "       'CIIU_NIVEL_6_DESC', 'ACTIVO_2022', 'ACTIVO_CORRIENTE_2022',\n",
       "       'INVENTARIOS_2022', 'ACTIVOS_NO_CORRIENTES_2022', 'PASIVO_2022',\n",
       "       'PASIVO_CORRIENTE_2022', 'PASIVO_NO_CORRIENTE_2022',\n",
       "       'PATRIMONIO_NETO_2022', 'INGRESOS_ACTIVIDADES_ORDINARIAS_2022',\n",
       "       'GANANCIA_BRUTA_2022', 'OTROS_INGRESOS_2022',\n",
       "       'COSTO_VENTAS_PRODUCCION_2022', 'GASTOS_2022',\n",
       "       'UTILIDAD_OPERATIVA_2022', 'GANACIA_PERDIDA_ANTES_IR_2022',\n",
       "       'IMPUESTO_RENTA_2022', 'UTILIDAD_NETA_2022', 'ACTIVO_2023',\n",
       "       'ACTIVO_CORRIENTE_2023', 'INVENTARIOS_2023',\n",
       "       'ACTIVOS_NO_CORRIENTES_2023', 'PASIVO_2023', 'PASIVO_CORRIENTE_2023',\n",
       "       'PASIVO_NO_CORRIENTE_2023', 'PATRIMONIO_NETO_2023',\n",
       "       'INGRESOS_ACTIVIDADES_ORDINARIAS_2023', 'GANANCIA_BRUTA_2023',\n",
       "       'OTROS_INGRESOS_2023', 'COSTO_VENTAS_PRODUCCION_2023', 'GASTOS_2023',\n",
       "       'UTILIDAD_OPERATIVA_2023', 'GANACIA_PERDIDA_ANTES_IR_2023',\n",
       "       'IMPUESTO_RENTA_2023', 'UTILIDAD_NETA_2023', 'VAR_ACTIVO',\n",
       "       'VAR_INVENTARIOS', 'VAR_PASIVO', 'VAR_INGRESOS',\n",
       "       'VAR_COSTO_VENTAS_PRODUCCION', 'VAR_GASTOS', 'VAR_UTILIDAD_OPERATIVA',\n",
       "       'VAR_IMPUESTO_RENTA', 'VAR_UTILIDAD_NETA', 'SEGMENTO',\n",
       "       'IF_PRUEBA_ACIDA', 'IF_ENDEUDAMIENTO_ACTIVO', 'IF_APALANCAMIENTO',\n",
       "       'IF_ROTACION_VENTAS', 'IF_MARGEN_BRUTO', 'IF_MARGEN_OPERCIONAL',\n",
       "       'IF_MARGEN_NETO', 'IF_ROE', 'IF_ROA', 'Set10_PCA1', 'Set10_PCA2',\n",
       "       'CLUSTERS_KMEANS_SET_10', 'Set4_UMAP1', 'Set4_UMAP2',\n",
       "       'CLUSTER_DBSCAN_SET_4'],\n",
       "      dtype='object')"
      ]
     },
     "execution_count": 7,
     "metadata": {},
     "output_type": "execute_result"
    }
   ],
   "source": [
    "pd_merged = pd_companias\n",
    "\n",
    "# pd_merged = pd.merge(pd_merged, pd_companias_kmeans[['RUC','Set10_PCA1', 'Set10_PCA2', 'Set10_REGION_PCA1', 'Set10_REGION_PCA2', 'CLUSTERS_KMEANS_SET_10', 'CLUSTERS_KMEANS_SET_10_REGION']], left_on='RUC', right_on='RUC', how='inner')\n",
    "pd_merged = pd.merge(pd_merged, pd_companias_kmeans[['RUC','Set10_PCA1', 'Set10_PCA2', 'CLUSTERS_KMEANS_SET_10']], left_on='RUC', right_on='RUC', how='inner')\n",
    "print(pd_merged.shape)\n",
    "\n",
    "# pd_merged = pd.merge(pd_merged, pd_companias_dbscan[['RUC','Set4_UMAP1', 'Set4_UMAP2', 'Set4_REGION_UMAP1', 'Set4_REGION_UMAP2', 'CLUSTER_DBSCAN_SET4']], left_on='RUC', right_on='RUC', how='inner')\n",
    "pd_merged = pd.merge(pd_merged, pd_companias_dbscan[['RUC','Set4_UMAP1', 'Set4_UMAP2', 'CLUSTER_DBSCAN_SET_4']], left_on='RUC', right_on='RUC', how='inner')\n",
    "print(pd_merged.shape)\n",
    "\n",
    "pd_merged.columns"
   ]
  },
  {
   "cell_type": "markdown",
   "metadata": {},
   "source": [
    "### ANONIMIZACION "
   ]
  },
  {
   "cell_type": "code",
   "execution_count": 8,
   "metadata": {},
   "outputs": [
    {
     "data": {
      "text/html": [
       "<div>\n",
       "<style scoped>\n",
       "    .dataframe tbody tr th:only-of-type {\n",
       "        vertical-align: middle;\n",
       "    }\n",
       "\n",
       "    .dataframe tbody tr th {\n",
       "        vertical-align: top;\n",
       "    }\n",
       "\n",
       "    .dataframe thead th {\n",
       "        text-align: right;\n",
       "    }\n",
       "</style>\n",
       "<table border=\"1\" class=\"dataframe\">\n",
       "  <thead>\n",
       "    <tr style=\"text-align: right;\">\n",
       "      <th></th>\n",
       "      <th>EXPEDIENTE</th>\n",
       "      <th>RUC</th>\n",
       "      <th>SITUACION_LEGAL</th>\n",
       "      <th>FECHA_CONSTITUCION</th>\n",
       "      <th>TIPO</th>\n",
       "      <th>PAIS</th>\n",
       "      <th>REGION</th>\n",
       "      <th>PROVINCIA</th>\n",
       "      <th>CANTON</th>\n",
       "      <th>CIUDAD</th>\n",
       "      <th>...</th>\n",
       "      <th>IF_MARGEN_OPERCIONAL</th>\n",
       "      <th>IF_MARGEN_NETO</th>\n",
       "      <th>IF_ROE</th>\n",
       "      <th>IF_ROA</th>\n",
       "      <th>Set10_PCA1</th>\n",
       "      <th>Set10_PCA2</th>\n",
       "      <th>CLUSTERS_KMEANS_SET_10</th>\n",
       "      <th>Set4_UMAP1</th>\n",
       "      <th>Set4_UMAP2</th>\n",
       "      <th>CLUSTER_DBSCAN_SET_4</th>\n",
       "    </tr>\n",
       "  </thead>\n",
       "  <tbody>\n",
       "    <tr>\n",
       "      <th>0</th>\n",
       "      <td>6b86b273ff34fce19d6b804eff5a3f5747ada4eaa22f1d...</td>\n",
       "      <td>1790013731001</td>\n",
       "      <td>ACTIVA</td>\n",
       "      <td>20/07/1951</td>\n",
       "      <td>ANÓNIMA</td>\n",
       "      <td>ECUADOR</td>\n",
       "      <td>SIERRA</td>\n",
       "      <td>SANTO DOMINGO DE LOS TSACHILAS</td>\n",
       "      <td>SANTO DOMINGO</td>\n",
       "      <td>SANTO DOMINGO DE LOS COLORADOS</td>\n",
       "      <td>...</td>\n",
       "      <td>-0.171</td>\n",
       "      <td>-0.181</td>\n",
       "      <td>-0.031</td>\n",
       "      <td>-0.030</td>\n",
       "      <td>-0.072471</td>\n",
       "      <td>-0.247057</td>\n",
       "      <td>11</td>\n",
       "      <td>5.236111</td>\n",
       "      <td>6.584550</td>\n",
       "      <td>0</td>\n",
       "    </tr>\n",
       "    <tr>\n",
       "      <th>1</th>\n",
       "      <td>d4735e3a265e16eee03f59718b9b5d03019c07d8b6c51f...</td>\n",
       "      <td>1790004724001</td>\n",
       "      <td>ACTIVA</td>\n",
       "      <td>17/12/1963</td>\n",
       "      <td>ANÓNIMA</td>\n",
       "      <td>ECUADOR</td>\n",
       "      <td>SIERRA</td>\n",
       "      <td>PICHINCHA</td>\n",
       "      <td>QUITO</td>\n",
       "      <td>QUITO</td>\n",
       "      <td>...</td>\n",
       "      <td>0.092</td>\n",
       "      <td>0.066</td>\n",
       "      <td>0.079</td>\n",
       "      <td>0.042</td>\n",
       "      <td>20.781848</td>\n",
       "      <td>10.371387</td>\n",
       "      <td>8</td>\n",
       "      <td>11.758091</td>\n",
       "      <td>21.090897</td>\n",
       "      <td>1</td>\n",
       "    </tr>\n",
       "    <tr>\n",
       "      <th>2</th>\n",
       "      <td>d59eced1ded07f84c145592f65bdf854358e009c5cd705...</td>\n",
       "      <td>1790340155001</td>\n",
       "      <td>ACTIVA</td>\n",
       "      <td>25/08/1961</td>\n",
       "      <td>ANÓNIMA</td>\n",
       "      <td>ECUADOR</td>\n",
       "      <td>SIERRA</td>\n",
       "      <td>PICHINCHA</td>\n",
       "      <td>QUITO</td>\n",
       "      <td>QUITO</td>\n",
       "      <td>...</td>\n",
       "      <td>0.258</td>\n",
       "      <td>0.214</td>\n",
       "      <td>0.121</td>\n",
       "      <td>0.042</td>\n",
       "      <td>5.042542</td>\n",
       "      <td>-2.395657</td>\n",
       "      <td>19</td>\n",
       "      <td>5.757602</td>\n",
       "      <td>20.017176</td>\n",
       "      <td>2</td>\n",
       "    </tr>\n",
       "  </tbody>\n",
       "</table>\n",
       "<p>3 rows × 77 columns</p>\n",
       "</div>"
      ],
      "text/plain": [
       "                                          EXPEDIENTE            RUC  \\\n",
       "0  6b86b273ff34fce19d6b804eff5a3f5747ada4eaa22f1d...  1790013731001   \n",
       "1  d4735e3a265e16eee03f59718b9b5d03019c07d8b6c51f...  1790004724001   \n",
       "2  d59eced1ded07f84c145592f65bdf854358e009c5cd705...  1790340155001   \n",
       "\n",
       "  SITUACION_LEGAL FECHA_CONSTITUCION     TIPO     PAIS  REGION  \\\n",
       "0          ACTIVA         20/07/1951  ANÓNIMA  ECUADOR  SIERRA   \n",
       "1          ACTIVA         17/12/1963  ANÓNIMA  ECUADOR  SIERRA   \n",
       "2          ACTIVA         25/08/1961  ANÓNIMA  ECUADOR  SIERRA   \n",
       "\n",
       "                        PROVINCIA         CANTON  \\\n",
       "0  SANTO DOMINGO DE LOS TSACHILAS  SANTO DOMINGO   \n",
       "1                       PICHINCHA          QUITO   \n",
       "2                       PICHINCHA          QUITO   \n",
       "\n",
       "                           CIUDAD  ... IF_MARGEN_OPERCIONAL IF_MARGEN_NETO  \\\n",
       "0  SANTO DOMINGO DE LOS COLORADOS  ...               -0.171         -0.181   \n",
       "1                           QUITO  ...                0.092          0.066   \n",
       "2                           QUITO  ...                0.258          0.214   \n",
       "\n",
       "  IF_ROE IF_ROA Set10_PCA1 Set10_PCA2 CLUSTERS_KMEANS_SET_10 Set4_UMAP1  \\\n",
       "0 -0.031 -0.030  -0.072471  -0.247057                     11   5.236111   \n",
       "1  0.079  0.042  20.781848  10.371387                      8  11.758091   \n",
       "2  0.121  0.042   5.042542  -2.395657                     19   5.757602   \n",
       "\n",
       "   Set4_UMAP2  CLUSTER_DBSCAN_SET_4  \n",
       "0    6.584550                     0  \n",
       "1   21.090897                     1  \n",
       "2   20.017176                     2  \n",
       "\n",
       "[3 rows x 77 columns]"
      ]
     },
     "execution_count": 8,
     "metadata": {},
     "output_type": "execute_result"
    }
   ],
   "source": [
    "# Función para aplicar hash\n",
    "def hash_value(value):\n",
    "    # Convertir el valor a string y aplicar hash\n",
    "    return hashlib.new('sha256', str(value).encode()).hexdigest()\n",
    "\n",
    "# Crear una copia del DataFrame y aplicar el hash\n",
    "dataset_hashed = pd_merged.copy()\n",
    "dataset_hashed['EXPEDIENTE'] = dataset_hashed['EXPEDIENTE'].apply(hash_value)\n",
    "\n",
    "dataset_hashed.head(3)"
   ]
  },
  {
   "cell_type": "code",
   "execution_count": 9,
   "metadata": {},
   "outputs": [],
   "source": [
    "# Eliminar las columnas\n",
    "# dataset_hashed.drop(columns=['EXPEDIENTE', 'RUC', 'NOMBRE'], inplace=True)\n",
    "\n",
    "dataset_hashed.drop(columns=['RUC'], inplace=True)\n"
   ]
  },
  {
   "cell_type": "code",
   "execution_count": 10,
   "metadata": {},
   "outputs": [],
   "source": [
    "dataset_hashed.rename(columns={'EXPEDIENTE': 'ID'}, inplace=True)"
   ]
  },
  {
   "cell_type": "code",
   "execution_count": 11,
   "metadata": {},
   "outputs": [],
   "source": [
    "dataset_hashed['CIIU_NIVEL_3_DESC'] = dataset_hashed['CIIU_NIVEL_3_DESC'].str.capitalize()\n",
    "dataset_hashed['CIIU_NIVEL_4_DESC'] = dataset_hashed['CIIU_NIVEL_4_DESC'].str.capitalize()\n",
    "dataset_hashed['CIIU_NIVEL_6_DESC'] = dataset_hashed['CIIU_NIVEL_6_DESC'].str.capitalize()\n",
    "dataset_hashed['PROVINCIA'] = dataset_hashed['PROVINCIA'].str.capitalize()\n"
   ]
  },
  {
   "cell_type": "code",
   "execution_count": 12,
   "metadata": {},
   "outputs": [],
   "source": [
    "# En la columna SEGMENTO, reemplazar PEQUENA por PEQUEÑA\n",
    "dataset_hashed['SEGMENTO'] = dataset_hashed['SEGMENTO'].str.replace('PEQUENA', 'PEQUEÑA')"
   ]
  },
  {
   "cell_type": "markdown",
   "metadata": {},
   "source": [
    "#### Añadir datos de Ubicación Geográfica"
   ]
  },
  {
   "cell_type": "markdown",
   "metadata": {},
   "source": [
    "En Power BI no se puede identificara a la provincia de Bolivar, se confunde con Colombia y Venezuela\n",
    "Se intentó de varias formas y no se pudo ubicar adecuadamente en el mapa. Se comenta este tipo de enriquecimiento."
   ]
  },
  {
   "cell_type": "code",
   "execution_count": 13,
   "metadata": {},
   "outputs": [],
   "source": [
    "# dataset_hashed['PROVINCIA'] = dataset_hashed['PROVINCIA'].replace('Bolivar', 'Bolívar')\n",
    "# dataset_hashed['PROVINCIA_EC'] = dataset_hashed['PROVINCIA'] + ', Ecuador'"
   ]
  },
  {
   "cell_type": "markdown",
   "metadata": {},
   "source": [
    "Se trabaja con Lattud y Longitud a nivel de Cantones Ecuador"
   ]
  },
  {
   "cell_type": "code",
   "execution_count": 14,
   "metadata": {},
   "outputs": [
    {
     "data": {
      "text/html": [
       "<div>\n",
       "<style scoped>\n",
       "    .dataframe tbody tr th:only-of-type {\n",
       "        vertical-align: middle;\n",
       "    }\n",
       "\n",
       "    .dataframe tbody tr th {\n",
       "        vertical-align: top;\n",
       "    }\n",
       "\n",
       "    .dataframe thead th {\n",
       "        text-align: right;\n",
       "    }\n",
       "</style>\n",
       "<table border=\"1\" class=\"dataframe\">\n",
       "  <thead>\n",
       "    <tr style=\"text-align: right;\">\n",
       "      <th></th>\n",
       "      <th>CANTON</th>\n",
       "      <th>LATITUD</th>\n",
       "      <th>LONGITUD</th>\n",
       "    </tr>\n",
       "  </thead>\n",
       "  <tbody>\n",
       "    <tr>\n",
       "      <th>35</th>\n",
       "      <td>JUNIN</td>\n",
       "      <td>-0.926130</td>\n",
       "      <td>-80.205565</td>\n",
       "    </tr>\n",
       "    <tr>\n",
       "      <th>62</th>\n",
       "      <td>CARLOS JULIO AROSEMENA TOLA</td>\n",
       "      <td>-1.167316</td>\n",
       "      <td>-77.939690</td>\n",
       "    </tr>\n",
       "    <tr>\n",
       "      <th>18</th>\n",
       "      <td>PIMAMPIRO</td>\n",
       "      <td>0.392461</td>\n",
       "      <td>-77.940296</td>\n",
       "    </tr>\n",
       "    <tr>\n",
       "      <th>108</th>\n",
       "      <td>PENIPE</td>\n",
       "      <td>-1.565928</td>\n",
       "      <td>-78.531552</td>\n",
       "    </tr>\n",
       "    <tr>\n",
       "      <th>81</th>\n",
       "      <td>URDANETA</td>\n",
       "      <td>-1.568020</td>\n",
       "      <td>-79.376967</td>\n",
       "    </tr>\n",
       "  </tbody>\n",
       "</table>\n",
       "</div>"
      ],
      "text/plain": [
       "                          CANTON   LATITUD   LONGITUD\n",
       "35                         JUNIN -0.926130 -80.205565\n",
       "62   CARLOS JULIO AROSEMENA TOLA -1.167316 -77.939690\n",
       "18                     PIMAMPIRO  0.392461 -77.940296\n",
       "108                       PENIPE -1.565928 -78.531552\n",
       "81                      URDANETA -1.568020 -79.376967"
      ]
     },
     "execution_count": 14,
     "metadata": {},
     "output_type": "execute_result"
    }
   ],
   "source": [
    "# Se carga el dataset que tiene información de los cantones (división geográfica menor a provincia)\n",
    "pd_cantones = pd.read_csv('Utilitarios/cantones_latitudes_longitudes.csv', encoding='utf-8')\n",
    "pd_cantones.sample(5)"
   ]
  },
  {
   "cell_type": "code",
   "execution_count": 15,
   "metadata": {},
   "outputs": [],
   "source": [
    "# Realizamos el MERGE entre los dos datasets por las columnas 'Provincia' y 'CIIU_NIVEL_3_DESC'\n",
    "dataset_hashed = pd.merge(dataset_hashed,                       \n",
    "                             pd_cantones,\n",
    "                             on=['CANTON'], \n",
    "                             how='left')"
   ]
  },
  {
   "cell_type": "code",
   "execution_count": 16,
   "metadata": {},
   "outputs": [
    {
     "data": {
      "text/plain": [
       "(37884, 78)"
      ]
     },
     "execution_count": 16,
     "metadata": {},
     "output_type": "execute_result"
    }
   ],
   "source": [
    "dataset_hashed.shape"
   ]
  },
  {
   "cell_type": "markdown",
   "metadata": {},
   "source": [
    "## Generar Dataset Compilado"
   ]
  },
  {
   "cell_type": "markdown",
   "metadata": {},
   "source": [
    "Datset para caracterización en Power BI"
   ]
  },
  {
   "cell_type": "code",
   "execution_count": 17,
   "metadata": {},
   "outputs": [],
   "source": [
    "# Guardar el DataFrame ajustando para visualización en Power BI\n",
    "dataset_hashed.to_csv(\n",
    "    'Datasets Procesados\\\\directorio_empresas_clusterizado_viz.csv', \n",
    "    sep=';',               # Separador de columnas\n",
    "    decimal=',',           # Separador decimal\n",
    "    index=False,           # Excluir índice\n",
    "    encoding='utf-8-sig'   # Codificación compatible con Excel y Power BI\n",
    ")\n"
   ]
  },
  {
   "cell_type": "markdown",
   "metadata": {},
   "source": [
    "Datset para caracterización en Python"
   ]
  },
  {
   "cell_type": "code",
   "execution_count": 18,
   "metadata": {},
   "outputs": [],
   "source": [
    "pd_merged.to_csv('Datasets Procesados\\\\directorio_empresas_final_clusterizado.csv', index=False)"
   ]
  }
 ],
 "metadata": {
  "kernelspec": {
   "display_name": "Python 3",
   "language": "python",
   "name": "python3"
  },
  "language_info": {
   "codemirror_mode": {
    "name": "ipython",
    "version": 3
   },
   "file_extension": ".py",
   "mimetype": "text/x-python",
   "name": "python",
   "nbconvert_exporter": "python",
   "pygments_lexer": "ipython3",
   "version": "3.12.5"
  }
 },
 "nbformat": 4,
 "nbformat_minor": 2
}
